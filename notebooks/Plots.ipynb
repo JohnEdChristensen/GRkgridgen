{
 "cells": [
  {
   "cell_type": "code",
   "execution_count": 1,
   "metadata": {
    "collapsed": true
   },
   "outputs": [],
   "source": [
    "from os import system\n",
    "import numpy as np\n",
    "from pyx import *"
   ]
  },
  {
   "cell_type": "code",
   "execution_count": 2,
   "metadata": {
    "collapsed": true
   },
   "outputs": [],
   "source": [
    "def add_shape(N,O,clr,cnvs):\n",
    "    combs = np.array([[[0,0],[0,1]],[[0,1],[1,1]],[[1,1],[1,0]],\n",
    "                      [[1,0],[0,0]]])\n",
    "    for comb in combs:\n",
    "        pt1 = O + np.dot(N,comb[0])\n",
    "        pt2 = O + np.dot(N,comb[1])\n",
    "        p = path.line(pt1[0],pt1[1],pt2[0],pt2[1])\n",
    "        cnvs.stroke(p,[style.linewidth.THICk,color.rgbfromhexstring(clr)])    "
   ]
  },
  {
   "cell_type": "code",
   "execution_count": 3,
   "metadata": {
    "collapsed": false
   },
   "outputs": [],
   "source": [
    "def make_grids(N,cnvs):\n",
    "    for i in range(N+1):\n",
    "        p = path.line(i,-.2,i,N+.1)\n",
    "        cnvs.stroke(p,[style.linewidth.Thick,color.gray(0.5)])\n",
    "        p = path.line(-.2,i,N+.1,i)\n",
    "        cnvs.stroke(p,[style.linewidth.Thick,color.gray(0.5)])"
   ]
  },
  {
   "cell_type": "code",
   "execution_count": 4,
   "metadata": {
    "collapsed": true
   },
   "outputs": [],
   "source": [
    "system('clear') # Clear the screen and start fresh\n",
    "text.set(mode=\"latex\")"
   ]
  },
  {
   "cell_type": "code",
   "execution_count": 5,
   "metadata": {
    "collapsed": true
   },
   "outputs": [],
   "source": [
    "N=8\n",
    "c = canvas.canvas()"
   ]
  },
  {
   "cell_type": "code",
   "execution_count": 6,
   "metadata": {
    "collapsed": true
   },
   "outputs": [],
   "source": [
    "make_grids(N,c)"
   ]
  },
  {
   "cell_type": "code",
   "execution_count": 6,
   "metadata": {
    "collapsed": false
   },
   "outputs": [],
   "source": [
    "add_shape([[2,0],[0,2]],[1,1],'#FF0000',c)"
   ]
  },
  {
   "cell_type": "code",
   "execution_count": 7,
   "metadata": {
    "collapsed": false
   },
   "outputs": [],
   "source": [
    "c.writePDFfile(\"square1\")"
   ]
  },
  {
   "cell_type": "code",
   "execution_count": 8,
   "metadata": {
    "collapsed": true
   },
   "outputs": [],
   "source": [
    "add_shape([[3,0],[0,3]],[1,1],'#0000FF',c)\n",
    "c.writePDFfile(\"square2\")"
   ]
  },
  {
   "cell_type": "code",
   "execution_count": 9,
   "metadata": {
    "collapsed": true
   },
   "outputs": [],
   "source": [
    "add_shape([[4,0],[0,4]],[1,1],'#006400',c)\n",
    "c.writePDFfile(\"square3\")"
   ]
  },
  {
   "cell_type": "code",
   "execution_count": 10,
   "metadata": {
    "collapsed": true
   },
   "outputs": [],
   "source": [
    "add_shape([[5,0],[0,5]],[1,1],'#4B0082',c)\n",
    "c.writePDFfile(\"square4\")"
   ]
  },
  {
   "cell_type": "code",
   "execution_count": 71,
   "metadata": {
    "collapsed": true
   },
   "outputs": [],
   "source": [
    "system('clear') # Clear the screen and start fresh\n",
    "text.set(mode=\"latex\")\n",
    "N=8\n",
    "c = canvas.canvas()"
   ]
  },
  {
   "cell_type": "code",
   "execution_count": 72,
   "metadata": {
    "collapsed": true
   },
   "outputs": [],
   "source": [
    "make_grids(N,c)"
   ]
  },
  {
   "cell_type": "code",
   "execution_count": 73,
   "metadata": {
    "collapsed": true
   },
   "outputs": [],
   "source": [
    "add_shape([[2,-1],[1,2]],[5,4],'#0000FF',c)\n",
    "c.writePDFfile(\"square5\")"
   ]
  },
  {
   "cell_type": "code",
   "execution_count": 74,
   "metadata": {
    "collapsed": true
   },
   "outputs": [],
   "source": [
    "add_shape([[2,2],[2,-2]],[1,3],'#FF0000',c)\n",
    "c.writePDFfile(\"square6\")"
   ]
  },
  {
   "cell_type": "code",
   "execution_count": 75,
   "metadata": {
    "collapsed": false
   },
   "outputs": [],
   "source": [
    "add_shape([[3,2],[2,-3]],[1,5],'#006400',c)\n",
    "c.writePDFfile(\"square7\")"
   ]
  },
  {
   "cell_type": "code",
   "execution_count": 80,
   "metadata": {
    "collapsed": true
   },
   "outputs": [],
   "source": [
    "system('clear') # Clear the screen and start fresh\n",
    "text.set(mode=\"latex\")\n",
    "N=8\n",
    "c = canvas.canvas()"
   ]
  },
  {
   "cell_type": "code",
   "execution_count": 81,
   "metadata": {
    "collapsed": true
   },
   "outputs": [],
   "source": [
    "make_grids(N,c)\n",
    "add_shape([[1,0],[0,1]],[1,1],'#FF0000',c)\n",
    "c.writePDFfile(\"real1\")\n",
    "add_shape([[4,0],[0,4]],[1,1],'#0000FF',c)\n",
    "c.writePDFfile(\"real2\")"
   ]
  },
  {
   "cell_type": "code",
   "execution_count": 127,
   "metadata": {
    "collapsed": true
   },
   "outputs": [],
   "source": [
    "system('clear') # Clear the screen and start fresh\n",
    "text.set(mode=\"latex\")\n",
    "N=8\n",
    "c = canvas.canvas()"
   ]
  },
  {
   "cell_type": "code",
   "execution_count": 128,
   "metadata": {
    "collapsed": true
   },
   "outputs": [],
   "source": [
    "make_grids(N,c)\n",
    "add_shape([[4,0],[0,4]],[1,1],'#FF0000',c)\n",
    "c.writePDFfile(\"recip1\")\n",
    "add_shape([[1,0],[0,1]],[1,1],'#0000FF',c)\n",
    "#for i in range(1,6):\n",
    "#    for j in range(1,6):\n",
    "#        c.stroke(path.circle(i,j,.1),[deco.filled,color.rgbfromhexstring('#0000FF')])\n",
    "\n",
    "c.writePDFfile(\"recip2\")"
   ]
  },
  {
   "cell_type": "code",
   "execution_count": 116,
   "metadata": {
    "collapsed": true
   },
   "outputs": [],
   "source": [
    "def make_rectangle_grid(N,cnvs):\n",
    "    for i in range(N+1):\n",
    "        p = path.line(i,-.2,i,N+.1)\n",
    "        cnvs.stroke(p,[style.linewidth.Thick,color.gray(0.5)])\n",
    "        if i%2==0:\n",
    "            p = path.line(-.2,i,N+.1,i)\n",
    "        cnvs.stroke(p,[style.linewidth.Thick,color.gray(0.5)])"
   ]
  },
  {
   "cell_type": "code",
   "execution_count": 117,
   "metadata": {
    "collapsed": true
   },
   "outputs": [],
   "source": [
    "system('clear') # Clear the screen and start fresh\n",
    "text.set(mode=\"latex\")\n",
    "N=10\n",
    "c = canvas.canvas()"
   ]
  },
  {
   "cell_type": "code",
   "execution_count": 118,
   "metadata": {
    "collapsed": true
   },
   "outputs": [],
   "source": [
    "make_rectangle_grid(N,c)\n",
    "#add_shape(np.dot([[1,0],[0,2]],[[2,0],[0,2]]),[1,2],'#FF0000',c)\n",
    "c.writePDFfile(\"rect1\")"
   ]
  },
  {
   "cell_type": "code",
   "execution_count": 138,
   "metadata": {
    "collapsed": true
   },
   "outputs": [],
   "source": [
    "system('clear') # Clear the screen and start fresh\n",
    "text.set(mode=\"latex\")\n",
    "N=10\n",
    "c = canvas.canvas()"
   ]
  },
  {
   "cell_type": "code",
   "execution_count": 139,
   "metadata": {
    "collapsed": true
   },
   "outputs": [],
   "source": [
    "make_rectangle_grid(N,c)\n",
    "add_shape(np.dot([[1,0],[0,2]],[[1,0],[0,4]]),[6,2],'#FF0000',c)\n",
    "add_shape(np.dot([[1,0],[0,2]],[[2,0],[0,2]]),[2,6],'#0000FF',c)\n",
    "add_shape(np.dot([[1,0],[0,2]],[[4,0],[0,1]]),[1,2],'#006400',c)\n",
    "c.writePDFfile(\"rect2\")"
   ]
  },
  {
   "cell_type": "code",
   "execution_count": null,
   "metadata": {
    "collapsed": true
   },
   "outputs": [],
   "source": []
  }
 ],
 "metadata": {
  "kernelspec": {
   "display_name": "Python 2",
   "language": "python",
   "name": "python2"
  },
  "language_info": {
   "codemirror_mode": {
    "name": "ipython",
    "version": 2
   },
   "file_extension": ".py",
   "mimetype": "text/x-python",
   "name": "python",
   "nbconvert_exporter": "python",
   "pygments_lexer": "ipython2",
   "version": "2.7.9"
  }
 },
 "nbformat": 4,
 "nbformat_minor": 2
}
