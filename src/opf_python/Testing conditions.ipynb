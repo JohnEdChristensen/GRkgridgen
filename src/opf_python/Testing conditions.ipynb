{
 "cells": [
  {
   "cell_type": "markdown",
   "metadata": {
    "deletable": true,
    "editable": true
   },
   "source": [
    "# Conditions\n",
    "\n",
    "We need to check the individual codes to see verify that they work."
   ]
  },
  {
   "cell_type": "code",
   "execution_count": 7,
   "metadata": {
    "collapsed": true,
    "deletable": true,
    "editable": true
   },
   "outputs": [],
   "source": [
    "import sc\n",
    "import fcc\n",
    "import bcc\n",
    "import trig\n",
    "import stet\n",
    "import hx\n",
    "import body_tet\n",
    "import so\n",
    "import base_ortho\n",
    "import face_ortho\n",
    "import body_ortho\n",
    "import sm\n",
    "import base_mono\n",
    "import time"
   ]
  },
  {
   "cell_type": "code",
   "execution_count": 8,
   "metadata": {
    "collapsed": false,
    "deletable": true,
    "editable": true
   },
   "outputs": [
    {
     "name": "stdout",
     "output_type": "stream",
     "text": [
      "Time to generate all symmetry preserving HNFs for a volume factor of 100,000\n",
      "('simple cubic: ', 11.740087985992432)\n",
      "('body centered cubic: ', 12.032212018966675)\n",
      "('face centered cubic: ', 0.1838850975036621)\n",
      "('hexagonal: ', 0.46892380714416504)\n",
      "('trigonal: ', 0.4816889762878418)\n",
      "('simple tetragonal: ', 0.4590480327606201)\n",
      "('body centered tetragonal: ', 11.824501037597656)\n",
      "('simple orthorhombic: ', 0.05432415008544922)\n",
      "('base centered orthorhombic: ', 0.1776120662689209)\n",
      "('body centred orthorhombic: ', 0.21901512145996094)\n",
      "('face centered orthorhombic: ', 0.5086209774017334)\n",
      "('simple monoclinic: ', 5.1344521045684814)\n",
      "('base centered monoclinic: ', 3.052651882171631)\n"
     ]
    }
   ],
   "source": [
    "import time\n",
    "print(\"Time to generate all symmetry preserving HNFs for a volume factor of 100,000\")\n",
    "start = time.time()\n",
    "sc.sc_srHNFs(100000)\n",
    "end = time.time()\n",
    "print(\"simple cubic: \",end-start)\n",
    "start = time.time()\n",
    "bcc.bcc_srHNFs(100000)\n",
    "end = time.time()\n",
    "print(\"body centered cubic: \",end-start)\n",
    "start = time.time()\n",
    "fcc.fcc_srHNFs(100000)\n",
    "end = time.time()\n",
    "print(\"face centered cubic: \",end-start)\n",
    "start = time.time()\n",
    "hx.hex_srHNFs(100000)\n",
    "end = time.time()\n",
    "print(\"hexagonal: \",end-start)\n",
    "start = time.time()\n",
    "trig.trig_srHNFs(100000)\n",
    "end = time.time()\n",
    "print(\"trigonal: \",end-start)\n",
    "start = time.time()\n",
    "stet.stet_srHNFs(100000)\n",
    "end = time.time()\n",
    "print(\"simple tetragonal: \",end-start)\n",
    "start = time.time()\n",
    "body_tet.body_tet_srHNFs(100000)\n",
    "end = time.time()\n",
    "print(\"body centered tetragonal: \",end-start)\n",
    "start = time.time()\n",
    "so.so_srHNFs(100000)\n",
    "end = time.time()\n",
    "print(\"simple orthorhombic: \",end-start)\n",
    "start = time.time()\n",
    "base_ortho.base_ortho_srHNFs(100000)\n",
    "end = time.time()\n",
    "print(\"base centered orthorhombic: \",end-start)\n",
    "start = time.time()\n",
    "body_ortho.body_ortho_srHNFs(100000)\n",
    "end = time.time()\n",
    "print(\"body centred orthorhombic: \",end-start)\n",
    "start = time.time()\n",
    "face_ortho.face_ortho_srHNFs(100000)\n",
    "end = time.time()\n",
    "print(\"face centered orthorhombic: \",end-start)\n",
    "start = time.time()\n",
    "sm.sm_srHNFs(100000)\n",
    "end = time.time()\n",
    "print(\"simple monoclinic: \",end-start)\n",
    "start = time.time()\n",
    "base_mono.base_mono_srHNFs(100000)\n",
    "end = time.time()\n",
    "print(\"base centered monoclinic: \",end-start)"
   ]
  },
  {
   "cell_type": "code",
   "execution_count": 6,
   "metadata": {
    "collapsed": false,
    "deletable": true,
    "editable": true
   },
   "outputs": [
    {
     "name": "stdout",
     "output_type": "stream",
     "text": [
      "0.503122806549\n"
     ]
    }
   ],
   "source": [
    "import trig\n",
    "import time\n",
    "start = time.time()\n",
    "trig.trig_srHNFs(100000)\n",
    "end = time.time()\n",
    "print(end-start)"
   ]
  },
  {
   "cell_type": "code",
   "execution_count": 6,
   "metadata": {
    "collapsed": false,
    "deletable": true,
    "editable": true
   },
   "outputs": [
    {
     "name": "stdout",
     "output_type": "stream",
     "text": [
      "('n: ', 1, ' num: ', 1, ' time: ', 1.9073486328125e-05)\n",
      "('n: ', 2, ' num: ', 1, ' time: ', 5.1021575927734375e-05)\n",
      "('n: ', 4, ' num: ', 1, ' time: ', 8.988380432128906e-05)\n",
      "('n: ', 8, ' num: ', 1, ' time: ', 0.00020885467529296875)\n",
      "('n: ', 16, ' num: ', 1, ' time: ', 0.001065969467163086)\n",
      "('n: ', 27, ' num: ', 1, ' time: ', 0.0004150867462158203)\n",
      "('n: ', 32, ' num: ', 1, ' time: ', 0.0010268688201904297)\n",
      "('n: ', 54, ' num: ', 1, ' time: ', 0.0005559921264648438)\n",
      "('n: ', 64, ' num: ', 1, ' time: ', 0.0015139579772949219)\n",
      "('n: ', 108, ' num: ', 1, ' time: ', 0.0026679039001464844)\n",
      "('n: ', 125, ' num: ', 1, ' time: ', 0.0010669231414794922)\n",
      "('n: ', 128, ' num: ', 1, ' time: ', 0.003403902053833008)\n",
      "('n: ', 216, ' num: ', 1, ' time: ', 0.008553028106689453)\n",
      "('n: ', 250, ' num: ', 1, ' time: ', 0.002043008804321289)\n",
      "('n: ', 256, ' num: ', 1, ' time: ', 0.007967948913574219)\n",
      "('n: ', 343, ' num: ', 1, ' time: ', 0.0033538341522216797)\n",
      "('n: ', 432, ' num: ', 1, ' time: ', 0.022981882095336914)\n",
      "('n: ', 500, ' num: ', 1, ' time: ', 0.011636018753051758)\n",
      "('n: ', 512, ' num: ', 1, ' time: ', 0.017761945724487305)\n",
      "('n: ', 686, ' num: ', 1, ' time: ', 0.006505012512207031)\n",
      "('n: ', 729, ' num: ', 1, ' time: ', 0.010325908660888672)\n",
      "('n: ', 864, ' num: ', 1, ' time: ', 0.060530900955200195)\n",
      "('n: ', 1000, ' num: ', 1, ' time: ', 0.043396949768066406)\n",
      "('n: ', 1024, ' num: ', 1, ' time: ', 0.041641950607299805)\n",
      "('n: ', 1331, ' num: ', 1, ' time: ', 0.01059412956237793)\n",
      "('n: ', 1372, ' num: ', 1, ' time: ', 0.03126382827758789)\n",
      "('n: ', 1458, ' num: ', 1, ' time: ', 0.020817995071411133)\n",
      "('n: ', 1728, ' num: ', 1, ' time: ', 0.15311312675476074)\n",
      "('n: ', 2000, ' num: ', 1, ' time: ', 0.1042640209197998)\n",
      "('n: ', 2048, ' num: ', 1, ' time: ', 0.098876953125)\n",
      "('n: ', 2197, ' num: ', 1, ' time: ', 0.018043041229248047)\n",
      "('n: ', 2662, ' num: ', 1, ' time: ', 0.022262096405029297)\n",
      "('n: ', 2744, ' num: ', 1, ' time: ', 0.10662722587585449)\n",
      "('n: ', 2916, ' num: ', 1, ' time: ', 0.13067388534545898)\n",
      "('n: ', 3375, ' num: ', 1, ' time: ', 0.1015629768371582)\n",
      "('n: ', 3456, ' num: ', 1, ' time: ', 0.3547999858856201)\n",
      "('n: ', 4000, ' num: ', 1, ' time: ', 0.27467989921569824)\n",
      "('n: ', 4096, ' num: ', 1, ' time: ', 0.19240212440490723)\n",
      "('n: ', 4394, ' num: ', 1, ' time: ', 0.03539395332336426)\n",
      "('n: ', 4913, ' num: ', 1, ' time: ', 0.039576053619384766)\n",
      "('n: ', 5324, ' num: ', 1, ' time: ', 0.12378501892089844)\n",
      "('n: ', 5488, ' num: ', 1, ' time: ', 0.2953510284423828)\n",
      "('n: ', 5832, ' num: ', 1, ' time: ', 0.3962390422821045)\n",
      "('n: ', 6750, ' num: ', 1, ' time: ', 0.20196890830993652)\n",
      "('n: ', 6859, ' num: ', 1, ' time: ', 0.05529594421386719)\n",
      "('n: ', 6912, ' num: ', 1, ' time: ', 0.8059499263763428)\n",
      "('n: ', 8000, ' num: ', 1, ' time: ', 0.6903431415557861)\n",
      "('n: ', 8192, ' num: ', 1, ' time: ', 0.4221839904785156)\n",
      "('n: ', 8788, ' num: ', 1, ' time: ', 0.20098209381103516)\n",
      "('n: ', 9261, ' num: ', 1, ' time: ', 0.27915406227111816)\n",
      "('n: ', 9826, ' num: ', 1, ' time: ', 0.07887697219848633)\n"
     ]
    }
   ],
   "source": [
    "for n in range(10000):\n",
    "    start = time.time()\n",
    "    temp = sc.sc_srHNFs(n)\n",
    "    end = time.time()\n",
    "    if len(temp) >0:\n",
    "        print(\"n: \",n,\" num: \",len(temp),\" time: \",end-start)"
   ]
  },
  {
   "cell_type": "code",
   "execution_count": 1,
   "metadata": {
    "collapsed": true
   },
   "outputs": [],
   "source": [
    "from universal import find_srBs\n",
    "import numpy as np\n",
    "from phenum.vector_utils import _minkowski_reduce_basis"
   ]
  },
  {
   "cell_type": "code",
   "execution_count": 2,
   "metadata": {
    "collapsed": false
   },
   "outputs": [
    {
     "name": "stdout",
     "output_type": "stream",
     "text": [
      "('n values used: ', [1, 2, 4, 8, 16, 32, 27, 54, 108, 64, 128, 256, 125, 250, 500, 216, 432, 864, 343, 686, 1372, 512, 1024, 729, 1458, 1000, 1331, 1728])\n",
      "('H: ', [[1, 0, 0], [0, 1, 0], [0, 0, 1]])\n",
      "('B: ', array([[ 1.,  0.,  0.],\n",
      "       [ 0.,  1.,  0.],\n",
      "       [ 0.,  1.,  1.]]))\n",
      "('H: ', [[1, 0, 0], [0, 1, 0], [1, 1, 2]])\n",
      "('B: ', array([[ 1.,  0.,  0.],\n",
      "       [ 0.,  1.,  0.],\n",
      "       [ 1.,  3.,  2.]]))\n",
      "('H: ', [[1, 0, 0], [1, 2, 0], [1, 0, 2]])\n",
      "('B: ', array([[ 1.,  0.,  0.],\n",
      "       [ 1.,  2.,  0.],\n",
      "       [ 1.,  2.,  2.]]))\n",
      "('H: ', [[2, 0, 0], [0, 2, 0], [0, 0, 2]])\n",
      "('B: ', array([[ 2.,  0.,  0.],\n",
      "       [ 0.,  2.,  0.],\n",
      "       [ 0.,  2.,  2.]]))\n",
      "('H: ', [[2, 0, 0], [0, 2, 0], [2, 2, 4]])\n",
      "('B: ', array([[ 2.,  0.,  0.],\n",
      "       [ 0.,  2.,  0.],\n",
      "       [ 2.,  6.,  4.]]))\n",
      "('H: ', [[2, 0, 0], [2, 4, 0], [2, 0, 4]])\n",
      "('B: ', array([[ 2.,  0.,  0.],\n",
      "       [ 2.,  4.,  0.],\n",
      "       [ 2.,  4.,  4.]]))\n"
     ]
    },
    {
     "ename": "NameError",
     "evalue": "global name 'exit' is not defined",
     "output_type": "error",
     "traceback": [
      "\u001b[0;31m---------------------------------------------------------------------------\u001b[0m",
      "\u001b[0;31mNameError\u001b[0m                                 Traceback (most recent call last)",
      "\u001b[0;32m<ipython-input-2-83b166df66b0>\u001b[0m in \u001b[0;36m<module>\u001b[0;34m()\u001b[0m\n\u001b[0;32m----> 1\u001b[0;31m \u001b[0mBs\u001b[0m \u001b[0;34m=\u001b[0m \u001b[0mfind_srBs\u001b[0m\u001b[0;34m(\u001b[0m\u001b[0mnp\u001b[0m\u001b[0;34m.\u001b[0m\u001b[0mtranspose\u001b[0m\u001b[0;34m(\u001b[0m\u001b[0;34m[\u001b[0m\u001b[0;34m[\u001b[0m\u001b[0;36m1\u001b[0m\u001b[0;34m,\u001b[0m\u001b[0;36m0\u001b[0m\u001b[0;34m,\u001b[0m\u001b[0;36m0\u001b[0m\u001b[0;34m]\u001b[0m\u001b[0;34m,\u001b[0m\u001b[0;34m[\u001b[0m\u001b[0;36m0\u001b[0m\u001b[0;34m,\u001b[0m\u001b[0;36m1\u001b[0m\u001b[0;34m,\u001b[0m\u001b[0;36m1\u001b[0m\u001b[0;34m]\u001b[0m\u001b[0;34m,\u001b[0m\u001b[0;34m[\u001b[0m\u001b[0;36m0\u001b[0m\u001b[0;34m,\u001b[0m\u001b[0;36m0\u001b[0m\u001b[0;34m,\u001b[0m\u001b[0;36m1\u001b[0m\u001b[0;34m]\u001b[0m\u001b[0;34m]\u001b[0m\u001b[0;34m)\u001b[0m\u001b[0;34m,\u001b[0m\u001b[0;36m1000\u001b[0m\u001b[0;34m)\u001b[0m\u001b[0;34m\u001b[0m\u001b[0m\n\u001b[0m",
      "\u001b[0;32m/Users/wileymorgan/Documents/research/opf_kgrids/src/opf_python/universal.pyc\u001b[0m in \u001b[0;36mfind_srBs\u001b[0;34m(A, kpt)\u001b[0m\n\u001b[1;32m    169\u001b[0m         \u001b[0mcount\u001b[0m \u001b[0;34m+=\u001b[0m \u001b[0;36m1\u001b[0m\u001b[0;34m\u001b[0m\u001b[0m\n\u001b[1;32m    170\u001b[0m         \u001b[0;32mif\u001b[0m \u001b[0mcount\u001b[0m \u001b[0;34m>\u001b[0m\u001b[0;36m5\u001b[0m\u001b[0;34m:\u001b[0m\u001b[0;34m\u001b[0m\u001b[0m\n\u001b[0;32m--> 171\u001b[0;31m             \u001b[0mexit\u001b[0m\u001b[0;34m(\u001b[0m\u001b[0;34m)\u001b[0m\u001b[0;34m\u001b[0m\u001b[0m\n\u001b[0m\u001b[1;32m    172\u001b[0m \u001b[0;34m\u001b[0m\u001b[0m\n\u001b[1;32m    173\u001b[0m     \u001b[0;32mreturn\u001b[0m \u001b[0mBs\u001b[0m\u001b[0;34m\u001b[0m\u001b[0m\n",
      "\u001b[0;31mNameError\u001b[0m: global name 'exit' is not defined"
     ]
    }
   ],
   "source": [
    "Bs = find_srBs(np.transpose([[1,0,0],[0,1,1],[0,0,1]]),1000)"
   ]
  },
  {
   "cell_type": "code",
   "execution_count": 8,
   "metadata": {
    "collapsed": false
   },
   "outputs": [
    {
     "data": {
      "text/plain": [
       "[array([[ 1.,  0.,  0.],\n",
       "        [ 0.,  1.,  0.],\n",
       "        [ 0.,  2.,  1.]]), array([[ 1.,  0.,  0.],\n",
       "        [ 0.,  1.,  0.],\n",
       "        [ 1.,  4.,  2.]]), array([[ 1.,  0.,  0.],\n",
       "        [ 1.,  2.,  0.],\n",
       "        [ 2.,  4.,  2.]]), array([[ 2.,  0.,  0.],\n",
       "        [ 0.,  2.,  0.],\n",
       "        [ 0.,  4.,  2.]]), array([[ 2.,  0.,  0.],\n",
       "        [ 0.,  2.,  0.],\n",
       "        [ 2.,  8.,  4.]]), array([[ 2.,  0.,  0.],\n",
       "        [ 2.,  4.,  0.],\n",
       "        [ 4.,  8.,  4.]]), array([[ 3.,  0.,  0.],\n",
       "        [ 0.,  3.,  0.],\n",
       "        [ 0.,  6.,  3.]]), array([[  3.,   0.,   0.],\n",
       "        [  0.,   3.,   0.],\n",
       "        [  3.,  12.,   6.]]), array([[  3.,   0.,   0.],\n",
       "        [  3.,   6.,   0.],\n",
       "        [  6.,  12.,   6.]]), array([[ 4.,  0.,  0.],\n",
       "        [ 0.,  4.,  0.],\n",
       "        [ 0.,  8.,  4.]]), array([[  4.,   0.,   0.],\n",
       "        [  0.,   4.,   0.],\n",
       "        [  4.,  16.,   8.]]), array([[  4.,   0.,   0.],\n",
       "        [  4.,   8.,   0.],\n",
       "        [  8.,  16.,   8.]]), array([[  5.,   0.,   0.],\n",
       "        [  0.,   5.,   0.],\n",
       "        [  0.,  10.,   5.]]), array([[  5.,   0.,   0.],\n",
       "        [  0.,   5.,   0.],\n",
       "        [  5.,  20.,  10.]]), array([[  5.,   0.,   0.],\n",
       "        [  5.,  10.,   0.],\n",
       "        [ 10.,  20.,  10.]]), array([[  6.,   0.,   0.],\n",
       "        [  0.,   6.,   0.],\n",
       "        [  0.,  12.,   6.]]), array([[  6.,   0.,   0.],\n",
       "        [  0.,   6.,   0.],\n",
       "        [  6.,  24.,  12.]]), array([[  6.,   0.,   0.],\n",
       "        [  6.,  12.,   0.],\n",
       "        [ 12.,  24.,  12.]]), array([[  7.,   0.,   0.],\n",
       "        [  0.,   7.,   0.],\n",
       "        [  0.,  14.,   7.]]), array([[  7.,   0.,   0.],\n",
       "        [  0.,   7.,   0.],\n",
       "        [  7.,  28.,  14.]]), array([[  7.,   0.,   0.],\n",
       "        [  7.,  14.,   0.],\n",
       "        [ 14.,  28.,  14.]]), array([[  8.,   0.,   0.],\n",
       "        [  0.,   8.,   0.],\n",
       "        [  0.,  16.,   8.]]), array([[  8.,   0.,   0.],\n",
       "        [  0.,   8.,   0.],\n",
       "        [  8.,  32.,  16.]]), array([[  9.,   0.,   0.],\n",
       "        [  0.,   9.,   0.],\n",
       "        [  0.,  18.,   9.]]), array([[  9.,   0.,   0.],\n",
       "        [  0.,   9.,   0.],\n",
       "        [  9.,  36.,  18.]]), array([[ 10.,   0.,   0.],\n",
       "        [  0.,  10.,   0.],\n",
       "        [  0.,  20.,  10.]]), array([[ 11.,   0.,   0.],\n",
       "        [  0.,  11.,   0.],\n",
       "        [  0.,  22.,  11.]]), array([[ 12.,   0.,   0.],\n",
       "        [  0.,  12.,   0.],\n",
       "        [  0.,  24.,  12.]])]"
      ]
     },
     "execution_count": 8,
     "metadata": {},
     "output_type": "execute_result"
    }
   ],
   "source": [
    "Bs"
   ]
  },
  {
   "cell_type": "code",
   "execution_count": 4,
   "metadata": {
    "collapsed": false
   },
   "outputs": [
    {
     "data": {
      "text/plain": [
       "[[1.0, 0.0, 0.0], [0.0, 1.0, 0.0], [0.0, 0.0, 2.0]]"
      ]
     },
     "execution_count": 4,
     "metadata": {},
     "output_type": "execute_result"
    }
   ],
   "source": [
    "_minkowski_reduce_basis([[ 1.,  0.,  0.],\n",
    "       [ 0.,  1.,  0.],\n",
    "       [ 1.,  1.,  2.]],1E-6)"
   ]
  },
  {
   "cell_type": "code",
   "execution_count": null,
   "metadata": {
    "collapsed": true
   },
   "outputs": [],
   "source": [
    "np.linalg.inv([[1,0,0],[0,])"
   ]
  },
  {
   "cell_type": "code",
   "execution_count": 5,
   "metadata": {
    "collapsed": true
   },
   "outputs": [],
   "source": [
    "from phenum.symmetry import _get_lattice_pointGroup"
   ]
  },
  {
   "cell_type": "code",
   "execution_count": 11,
   "metadata": {
    "collapsed": false
   },
   "outputs": [
    {
     "data": {
      "text/plain": [
       "[array([[-1.,  0.,  0.],\n",
       "        [ 0.,  1.,  0.],\n",
       "        [ 0.,  0., -1.]]), array([[-1.,  0.,  0.],\n",
       "        [ 0.,  1.,  0.],\n",
       "        [ 0.,  0.,  1.]]), array([[-1.,  0.,  0.],\n",
       "        [ 0., -1.,  0.],\n",
       "        [ 0.,  0., -1.]]), array([[-1.,  0.,  0.],\n",
       "        [ 0., -1.,  0.],\n",
       "        [ 0.,  0.,  1.]]), array([[-0.5      ,  0.8660254,  0.       ],\n",
       "        [-0.8660254, -0.5      ,  0.       ],\n",
       "        [ 0.       ,  0.       , -1.       ]]), array([[-0.5      ,  0.8660254,  0.       ],\n",
       "        [-0.8660254, -0.5      ,  0.       ],\n",
       "        [ 0.       ,  0.       ,  1.       ]]), array([[-0.5      , -0.8660254,  0.       ],\n",
       "        [-0.8660254,  0.5      ,  0.       ],\n",
       "        [ 0.       ,  0.       , -1.       ]]), array([[-0.5      , -0.8660254,  0.       ],\n",
       "        [-0.8660254,  0.5      ,  0.       ],\n",
       "        [ 0.       ,  0.       ,  1.       ]]), array([[-0.5      ,  0.8660254,  0.       ],\n",
       "        [ 0.8660254,  0.5      ,  0.       ],\n",
       "        [ 0.       ,  0.       , -1.       ]]), array([[-0.5      ,  0.8660254,  0.       ],\n",
       "        [ 0.8660254,  0.5      ,  0.       ],\n",
       "        [ 0.       ,  0.       ,  1.       ]]), array([[-0.5      , -0.8660254,  0.       ],\n",
       "        [ 0.8660254, -0.5      ,  0.       ],\n",
       "        [ 0.       ,  0.       , -1.       ]]), array([[-0.5      , -0.8660254,  0.       ],\n",
       "        [ 0.8660254, -0.5      ,  0.       ],\n",
       "        [ 0.       ,  0.       ,  1.       ]]), array([[ 0.5      ,  0.8660254,  0.       ],\n",
       "        [-0.8660254,  0.5      ,  0.       ],\n",
       "        [ 0.       ,  0.       , -1.       ]]), array([[ 0.5      ,  0.8660254,  0.       ],\n",
       "        [-0.8660254,  0.5      ,  0.       ],\n",
       "        [ 0.       ,  0.       ,  1.       ]]), array([[ 0.5      , -0.8660254,  0.       ],\n",
       "        [-0.8660254, -0.5      ,  0.       ],\n",
       "        [ 0.       ,  0.       , -1.       ]]), array([[ 0.5      , -0.8660254,  0.       ],\n",
       "        [-0.8660254, -0.5      ,  0.       ],\n",
       "        [ 0.       ,  0.       ,  1.       ]]), array([[ 0.5      ,  0.8660254,  0.       ],\n",
       "        [ 0.8660254, -0.5      ,  0.       ],\n",
       "        [ 0.       ,  0.       , -1.       ]]), array([[ 0.5      ,  0.8660254,  0.       ],\n",
       "        [ 0.8660254, -0.5      ,  0.       ],\n",
       "        [ 0.       ,  0.       ,  1.       ]]), array([[ 0.5      , -0.8660254,  0.       ],\n",
       "        [ 0.8660254,  0.5      ,  0.       ],\n",
       "        [ 0.       ,  0.       , -1.       ]]), array([[ 0.5      , -0.8660254,  0.       ],\n",
       "        [ 0.8660254,  0.5      ,  0.       ],\n",
       "        [ 0.       ,  0.       ,  1.       ]]), array([[ 1.,  0.,  0.],\n",
       "        [ 0.,  1.,  0.],\n",
       "        [ 0.,  0., -1.]]), array([[ 1.,  0.,  0.],\n",
       "        [ 0.,  1.,  0.],\n",
       "        [ 0.,  0.,  1.]]), array([[ 1.,  0.,  0.],\n",
       "        [ 0., -1.,  0.],\n",
       "        [ 0.,  0., -1.]]), array([[ 1.,  0.,  0.],\n",
       "        [ 0., -1.,  0.],\n",
       "        [ 0.,  0.,  1.]])]"
      ]
     },
     "execution_count": 11,
     "metadata": {},
     "output_type": "execute_result"
    }
   ],
   "source": [
    "[np.transpose(i) for i in _get_lattice_pointGroup([[1,0,0],[0.5,-0.86602540378444,0],[0,0,2]])]"
   ]
  },
  {
   "cell_type": "code",
   "execution_count": 12,
   "metadata": {
    "collapsed": false
   },
   "outputs": [
    {
     "data": {
      "text/plain": [
       "[[[-1.0, 0.0, 0.0], [0.0, -1.0, 0.0], [0.0, 0.0, -1.0]],\n",
       " [[-1.0, 0.0, 0.0], [0.0, -1.0, 0.0], [0.0, 0.0, 1.0]],\n",
       " [[1.0, 0.0, 0.0], [0.0, 1.0, 0.0], [0.0, 0.0, -1.0]],\n",
       " [[1.0, 0.0, 0.0], [0.0, 1.0, 0.0], [0.0, 0.0, 1.0]]]"
      ]
     },
     "execution_count": 12,
     "metadata": {},
     "output_type": "execute_result"
    }
   ],
   "source": [
    "_get_lattice_pointGroup(np.transpose([[1,0,0],[0.5,-0.86602540378444,0],[0,0,2]]))"
   ]
  },
  {
   "cell_type": "code",
   "execution_count": null,
   "metadata": {
    "collapsed": true
   },
   "outputs": [],
   "source": []
  }
 ],
 "metadata": {
  "kernelspec": {
   "display_name": "Python 2",
   "language": "python",
   "name": "python2"
  },
  "language_info": {
   "codemirror_mode": {
    "name": "ipython",
    "version": 2
   },
   "file_extension": ".py",
   "mimetype": "text/x-python",
   "name": "python",
   "nbconvert_exporter": "python",
   "pygments_lexer": "ipython2",
   "version": "2.7.9"
  }
 },
 "nbformat": 4,
 "nbformat_minor": 2
}
