{
 "cells": [
  {
   "cell_type": "markdown",
   "metadata": {
    "deletable": true,
    "editable": true
   },
   "source": [
    "# Conditions\n",
    "\n",
    "We need to check the individual codes to see verify that they work."
   ]
  },
  {
   "cell_type": "code",
   "execution_count": 1,
   "metadata": {
    "collapsed": true,
    "deletable": true,
    "editable": true
   },
   "outputs": [],
   "source": [
    "import sc\n",
    "import fcc\n",
    "import bcc\n",
    "import trig\n",
    "import stet\n",
    "import hx\n",
    "import body_tet\n",
    "import so\n",
    "import base_ortho\n",
    "import face_ortho\n",
    "import body_ortho\n",
    "import sm\n",
    "import base_mono\n",
    "import time"
   ]
  },
  {
   "cell_type": "code",
   "execution_count": 2,
   "metadata": {
    "collapsed": false,
    "deletable": true,
    "editable": true
   },
   "outputs": [
    {
     "name": "stdout",
     "output_type": "stream",
     "text": [
      "Time to generate all symmetry preserving HNFs for a volume factor of 100,000\n",
      "('simple cubic: ', 0.04571104049682617)\n",
      "('body centered cubic: ', 0.031320810317993164)\n",
      "('face centered cubic: ', 0.037094831466674805)\n",
      "('hexagonal: ', 0.5201511383056641)\n",
      "('trigonal: ', 0.5403831005096436)\n",
      "('simple tetragonal: ', 0.5204920768737793)\n",
      "('body centered tetragonal: ', 1.8494088649749756)\n",
      "('simple orthorhombic: ', 0.05643200874328613)\n",
      "('base centered orthorhombic: ', 0.19942307472229004)\n",
      "('body centred orthorhombic: ', 0.2328329086303711)\n",
      "('face centered orthorhombic: ', 0.576167106628418)\n",
      "('simple monoclinic: ', 5.331115007400513)\n",
      "('base centered monoclinic: ', 3.182573080062866)\n"
     ]
    }
   ],
   "source": [
    "import time\n",
    "print(\"Time to generate all symmetry preserving HNFs for a volume factor of 100,000\")\n",
    "start = time.time()\n",
    "sc.sc_srHNFs(100000)\n",
    "end = time.time()\n",
    "print(\"simple cubic: \",end-start)\n",
    "start = time.time()\n",
    "bcc.bcc_srHNFs(100000)\n",
    "end = time.time()\n",
    "print(\"body centered cubic: \",end-start)\n",
    "start = time.time()\n",
    "fcc.fcc_srHNFs(100000)\n",
    "end = time.time()\n",
    "print(\"face centered cubic: \",end-start)\n",
    "start = time.time()\n",
    "hx.hex_srHNFs(100000)\n",
    "end = time.time()\n",
    "print(\"hexagonal: \",end-start)\n",
    "start = time.time()\n",
    "trig.trig_srHNFs(100000)\n",
    "end = time.time()\n",
    "print(\"trigonal: \",end-start)\n",
    "start = time.time()\n",
    "stet.stet_srHNFs(100000)\n",
    "end = time.time()\n",
    "print(\"simple tetragonal: \",end-start)\n",
    "start = time.time()\n",
    "body_tet.body_tet_srHNFs(100000)\n",
    "end = time.time()\n",
    "print(\"body centered tetragonal: \",end-start)\n",
    "start = time.time()\n",
    "so.so_srHNFs(100000)\n",
    "end = time.time()\n",
    "print(\"simple orthorhombic: \",end-start)\n",
    "start = time.time()\n",
    "base_ortho.base_ortho_srHNFs(100000)\n",
    "end = time.time()\n",
    "print(\"base centered orthorhombic: \",end-start)\n",
    "start = time.time()\n",
    "body_ortho.body_ortho_srHNFs(100000)\n",
    "end = time.time()\n",
    "print(\"body centred orthorhombic: \",end-start)\n",
    "start = time.time()\n",
    "face_ortho.face_ortho_srHNFs(100000)\n",
    "end = time.time()\n",
    "print(\"face centered orthorhombic: \",end-start)\n",
    "start = time.time()\n",
    "sm.sm_srHNFs(100000)\n",
    "end = time.time()\n",
    "print(\"simple monoclinic: \",end-start)\n",
    "start = time.time()\n",
    "base_mono.base_mono_srHNFs(100000)\n",
    "end = time.time()\n",
    "print(\"base centered monoclinic: \",end-start)"
   ]
  },
  {
   "cell_type": "code",
   "execution_count": 5,
   "metadata": {
    "collapsed": false,
    "deletable": true,
    "editable": true
   },
   "outputs": [
    {
     "name": "stdout",
     "output_type": "stream",
     "text": [
      "('n: ', 1, ' num: ', 1, ' time: ', 6.9141387939453125e-06)\n",
      "('n: ', 4, ' num: ', 1, ' time: ', 1.0967254638671875e-05)\n",
      "('n: ', 8, ' num: ', 1, ' time: ', 1.5974044799804688e-05)\n",
      "('n: ', 16, ' num: ', 1, ' time: ', 2.3126602172851562e-05)\n",
      "('n: ', 27, ' num: ', 1, ' time: ', 2.7894973754882812e-05)\n",
      "('n: ', 32, ' num: ', 1, ' time: ', 3.1948089599609375e-05)\n",
      "('n: ', 64, ' num: ', 1, ' time: ', 4.8160552978515625e-05)\n",
      "('n: ', 108, ' num: ', 1, ' time: ', 0.00011801719665527344)\n",
      "('n: ', 125, ' num: ', 1, ' time: ', 4.1961669921875e-05)\n",
      "('n: ', 128, ' num: ', 1, ' time: ', 7.104873657226562e-05)\n",
      "('n: ', 216, ' num: ', 1, ' time: ', 0.0002048015594482422)\n",
      "('n: ', 256, ' num: ', 1, ' time: ', 8.916854858398438e-05)\n",
      "('n: ', 343, ' num: ', 1, ' time: ', 6.604194641113281e-05)\n",
      "('n: ', 432, ' num: ', 1, ' time: ', 0.0003170967102050781)\n",
      "('n: ', 500, ' num: ', 1, ' time: ', 0.00017213821411132812)\n",
      "('n: ', 512, ' num: ', 1, ' time: ', 0.00014781951904296875)\n",
      "('n: ', 729, ' num: ', 1, ' time: ', 0.00015878677368164062)\n",
      "('n: ', 864, ' num: ', 1, ' time: ', 0.0004489421844482422)\n",
      "('n: ', 1000, ' num: ', 1, ' time: ', 0.0002980232238769531)\n",
      "('n: ', 1024, ' num: ', 1, ' time: ', 0.00029206275939941406)\n",
      "('n: ', 1331, ' num: ', 1, ' time: ', 0.00024509429931640625)\n",
      "('n: ', 1372, ' num: ', 1, ' time: ', 0.0004870891571044922)\n",
      "('n: ', 1728, ' num: ', 1, ' time: ', 0.0007672309875488281)\n",
      "('n: ', 2000, ' num: ', 1, ' time: ', 0.0006139278411865234)\n",
      "('n: ', 2048, ' num: ', 1, ' time: ', 0.0010590553283691406)\n",
      "('n: ', 2197, ' num: ', 1, ' time: ', 0.0004591941833496094)\n",
      "('n: ', 2744, ' num: ', 1, ' time: ', 0.0009000301361083984)\n",
      "('n: ', 2916, ' num: ', 1, ' time: ', 0.0010709762573242188)\n",
      "('n: ', 3375, ' num: ', 1, ' time: ', 0.0010190010070800781)\n",
      "('n: ', 3456, ' num: ', 1, ' time: ', 0.0013279914855957031)\n",
      "('n: ', 4000, ' num: ', 1, ' time: ', 0.0016758441925048828)\n",
      "('n: ', 4096, ' num: ', 1, ' time: ', 0.0010538101196289062)\n",
      "('n: ', 4913, ' num: ', 1, ' time: ', 0.0015130043029785156)\n",
      "('n: ', 5324, ' num: ', 1, ' time: ', 0.0018029212951660156)\n",
      "('n: ', 5488, ' num: ', 1, ' time: ', 0.0018219947814941406)\n",
      "('n: ', 5832, ' num: ', 1, ' time: ', 0.0019080638885498047)\n",
      "('n: ', 6859, ' num: ', 1, ' time: ', 0.0011899471282958984)\n",
      "('n: ', 6912, ' num: ', 1, ' time: ', 0.002579927444458008)\n",
      "('n: ', 8000, ' num: ', 1, ' time: ', 0.002902984619140625)\n",
      "('n: ', 8192, ' num: ', 1, ' time: ', 0.00232696533203125)\n",
      "('n: ', 8788, ' num: ', 1, ' time: ', 0.0021359920501708984)\n",
      "('n: ', 9261, ' num: ', 1, ' time: ', 0.0021729469299316406)\n"
     ]
    }
   ],
   "source": [
    "for n in range(10000):\n",
    "    start = time.time()\n",
    "    temp = fcc.fcc_srHNFs(n)\n",
    "    end = time.time()\n",
    "    if len(temp) >0:\n",
    "        print(\"n: \",n,\" num: \",len(temp),\" time: \",end-start)"
   ]
  },
  {
   "cell_type": "code",
   "execution_count": null,
   "metadata": {
    "collapsed": true
   },
   "outputs": [],
   "source": []
  }
 ],
 "metadata": {
  "kernelspec": {
   "display_name": "Python 2",
   "language": "python",
   "name": "python2"
  },
  "language_info": {
   "codemirror_mode": {
    "name": "ipython",
    "version": 2
   },
   "file_extension": ".py",
   "mimetype": "text/x-python",
   "name": "python",
   "nbconvert_exporter": "python",
   "pygments_lexer": "ipython2",
   "version": "2.7.9"
  }
 },
 "nbformat": 4,
 "nbformat_minor": 2
}
