{
 "cells": [
  {
   "cell_type": "markdown",
   "metadata": {
    "deletable": true,
    "editable": true
   },
   "source": [
    "# Conditions\n",
    "\n",
    "We need to check the individual codes to see verify that they work."
   ]
  },
  {
   "cell_type": "code",
   "execution_count": 1,
   "metadata": {
    "collapsed": true,
    "deletable": true,
    "editable": true
   },
   "outputs": [],
   "source": [
    "import sc\n",
    "import fcc\n",
    "import bcc\n",
    "import trig\n",
    "import stet\n",
    "import time"
   ]
  },
  {
   "cell_type": "code",
   "execution_count": 6,
   "metadata": {
    "collapsed": false,
    "deletable": true,
    "editable": true
   },
   "outputs": [
    {
     "name": "stdout",
     "output_type": "stream",
     "text": [
      "('n: ', 1, ' num: ', 1, ' time: ', 1.9073486328125e-05)\n",
      "('n: ', 2, ' num: ', 1, ' time: ', 5.1021575927734375e-05)\n",
      "('n: ', 4, ' num: ', 1, ' time: ', 8.988380432128906e-05)\n",
      "('n: ', 8, ' num: ', 1, ' time: ', 0.00020885467529296875)\n",
      "('n: ', 16, ' num: ', 1, ' time: ', 0.001065969467163086)\n",
      "('n: ', 27, ' num: ', 1, ' time: ', 0.0004150867462158203)\n",
      "('n: ', 32, ' num: ', 1, ' time: ', 0.0010268688201904297)\n",
      "('n: ', 54, ' num: ', 1, ' time: ', 0.0005559921264648438)\n",
      "('n: ', 64, ' num: ', 1, ' time: ', 0.0015139579772949219)\n",
      "('n: ', 108, ' num: ', 1, ' time: ', 0.0026679039001464844)\n",
      "('n: ', 125, ' num: ', 1, ' time: ', 0.0010669231414794922)\n",
      "('n: ', 128, ' num: ', 1, ' time: ', 0.003403902053833008)\n",
      "('n: ', 216, ' num: ', 1, ' time: ', 0.008553028106689453)\n",
      "('n: ', 250, ' num: ', 1, ' time: ', 0.002043008804321289)\n",
      "('n: ', 256, ' num: ', 1, ' time: ', 0.007967948913574219)\n",
      "('n: ', 343, ' num: ', 1, ' time: ', 0.0033538341522216797)\n",
      "('n: ', 432, ' num: ', 1, ' time: ', 0.022981882095336914)\n",
      "('n: ', 500, ' num: ', 1, ' time: ', 0.011636018753051758)\n",
      "('n: ', 512, ' num: ', 1, ' time: ', 0.017761945724487305)\n",
      "('n: ', 686, ' num: ', 1, ' time: ', 0.006505012512207031)\n",
      "('n: ', 729, ' num: ', 1, ' time: ', 0.010325908660888672)\n",
      "('n: ', 864, ' num: ', 1, ' time: ', 0.060530900955200195)\n",
      "('n: ', 1000, ' num: ', 1, ' time: ', 0.043396949768066406)\n",
      "('n: ', 1024, ' num: ', 1, ' time: ', 0.041641950607299805)\n",
      "('n: ', 1331, ' num: ', 1, ' time: ', 0.01059412956237793)\n",
      "('n: ', 1372, ' num: ', 1, ' time: ', 0.03126382827758789)\n",
      "('n: ', 1458, ' num: ', 1, ' time: ', 0.020817995071411133)\n",
      "('n: ', 1728, ' num: ', 1, ' time: ', 0.15311312675476074)\n",
      "('n: ', 2000, ' num: ', 1, ' time: ', 0.1042640209197998)\n",
      "('n: ', 2048, ' num: ', 1, ' time: ', 0.098876953125)\n",
      "('n: ', 2197, ' num: ', 1, ' time: ', 0.018043041229248047)\n",
      "('n: ', 2662, ' num: ', 1, ' time: ', 0.022262096405029297)\n",
      "('n: ', 2744, ' num: ', 1, ' time: ', 0.10662722587585449)\n",
      "('n: ', 2916, ' num: ', 1, ' time: ', 0.13067388534545898)\n",
      "('n: ', 3375, ' num: ', 1, ' time: ', 0.1015629768371582)\n",
      "('n: ', 3456, ' num: ', 1, ' time: ', 0.3547999858856201)\n",
      "('n: ', 4000, ' num: ', 1, ' time: ', 0.27467989921569824)\n",
      "('n: ', 4096, ' num: ', 1, ' time: ', 0.19240212440490723)\n",
      "('n: ', 4394, ' num: ', 1, ' time: ', 0.03539395332336426)\n",
      "('n: ', 4913, ' num: ', 1, ' time: ', 0.039576053619384766)\n",
      "('n: ', 5324, ' num: ', 1, ' time: ', 0.12378501892089844)\n",
      "('n: ', 5488, ' num: ', 1, ' time: ', 0.2953510284423828)\n",
      "('n: ', 5832, ' num: ', 1, ' time: ', 0.3962390422821045)\n",
      "('n: ', 6750, ' num: ', 1, ' time: ', 0.20196890830993652)\n",
      "('n: ', 6859, ' num: ', 1, ' time: ', 0.05529594421386719)\n",
      "('n: ', 6912, ' num: ', 1, ' time: ', 0.8059499263763428)\n",
      "('n: ', 8000, ' num: ', 1, ' time: ', 0.6903431415557861)\n",
      "('n: ', 8192, ' num: ', 1, ' time: ', 0.4221839904785156)\n",
      "('n: ', 8788, ' num: ', 1, ' time: ', 0.20098209381103516)\n",
      "('n: ', 9261, ' num: ', 1, ' time: ', 0.27915406227111816)\n",
      "('n: ', 9826, ' num: ', 1, ' time: ', 0.07887697219848633)\n"
     ]
    }
   ],
   "source": [
    "for n in range(10000):\n",
    "    start = time.time()\n",
    "    temp = sc.sc_srHNFs(n)\n",
    "    end = time.time()\n",
    "    if len(temp) >0:\n",
    "        print(\"n: \",n,\" num: \",len(temp),\" time: \",end-start)"
   ]
  },
  {
   "cell_type": "code",
   "execution_count": 3,
   "metadata": {
    "collapsed": false,
    "deletable": true,
    "editable": true
   },
   "outputs": [
    {
     "name": "stdout",
     "output_type": "stream",
     "text": [
      "('n: ', 1, ' num: ', 1, ' time: ', 2.193450927734375e-05)\n",
      "('n: ', 2, ' num: ', 1, ' time: ', 5.2928924560546875e-05)\n",
      "('n: ', 4, ' num: ', 1, ' time: ', 5.793571472167969e-05)\n",
      "('n: ', 8, ' num: ', 1, ' time: ', 0.00014281272888183594)\n"
     ]
    }
   ],
   "source": [
    "for n in range(10):\n",
    "    start = time.time()\n",
    "    temp = sc.sc_srHNFs(n)\n",
    "    end = time.time()\n",
    "    if len(temp) >0:\n",
    "        print(\"n: \",n,\" num: \",len(temp),\" time: \",end-start)"
   ]
  },
  {
   "cell_type": "code",
   "execution_count": 15,
   "metadata": {
    "collapsed": false,
    "deletable": true,
    "editable": true
   },
   "outputs": [
    {
     "name": "stdout",
     "output_type": "stream",
     "text": [
      "('n: ', 1, ' num: ', 1, ' time: ', 1.811981201171875e-05)\n",
      "('n: ', 4, ' num: ', 1, ' time: ', 5.2928924560546875e-05)\n",
      "('n: ', 8, ' num: ', 1, ' time: ', 0.00024199485778808594)\n",
      "('n: ', 16, ' num: ', 1, ' time: ', 0.00012421607971191406)\n",
      "('n: ', 27, ' num: ', 1, ' time: ', 0.0001392364501953125)\n",
      "('n: ', 32, ' num: ', 1, ' time: ', 0.00014209747314453125)\n",
      "('n: ', 64, ' num: ', 1, ' time: ', 0.0005369186401367188)\n"
     ]
    }
   ],
   "source": [
    "for n in range(100):\n",
    "    start = time.time()\n",
    "    temp = fcc.fcc_srHNFs(n)\n",
    "#    if len(temp) > 0:\n",
    "#        print(temp)\n",
    "    end = time.time()\n",
    "    if len(temp) >0:\n",
    "        print(\"n: \",n,\" num: \",len(temp),\" time: \",end-start)"
   ]
  },
  {
   "cell_type": "code",
   "execution_count": 2,
   "metadata": {
    "collapsed": false,
    "deletable": true,
    "editable": true
   },
   "outputs": [
    {
     "name": "stdout",
     "output_type": "stream",
     "text": [
      "('n: ', 1, ' num: ', 1, ' time: ', 2.7894973754882812e-05)\n",
      "('n: ', 2, ' num: ', 1, ' time: ', 2.384185791015625e-05)\n",
      "('n: ', 4, ' num: ', 1, ' time: ', 6.604194641113281e-05)\n",
      "('n: ', 8, ' num: ', 1, ' time: ', 0.00029206275939941406)\n",
      "('n: ', 16, ' num: ', 1, ' time: ', 0.00047206878662109375)\n",
      "('n: ', 27, ' num: ', 1, ' time: ', 0.00026106834411621094)\n",
      "('n: ', 32, ' num: ', 1, ' time: ', 0.001046895980834961)\n",
      "('n: ', 54, ' num: ', 1, ' time: ', 0.0005259513854980469)\n",
      "('n: ', 64, ' num: ', 1, ' time: ', 0.0017659664154052734)\n"
     ]
    }
   ],
   "source": [
    "for n in range(100):\n",
    "    start = time.time()\n",
    "    temp = bcc.bcc_srHNFs(n)\n",
    "#    if len(temp) > 0:\n",
    "#        print(temp)\n",
    "    end = time.time()\n",
    "    if len(temp) >0:\n",
    "        print(\"n: \",n,\" num: \",len(temp),\" time: \",end-start)"
   ]
  },
  {
   "cell_type": "code",
   "execution_count": 9,
   "metadata": {
    "collapsed": false,
    "deletable": true,
    "editable": true
   },
   "outputs": [
    {
     "name": "stdout",
     "output_type": "stream",
     "text": [
      "('n: ', 40, ' num: ', 2, ' time: ', 0.0018799304962158203)\n",
      "('n: ', 41, ' num: ', 1, ' time: ', 0.0003800392150878906)\n",
      "('n: ', 42, ' num: ', 1, ' time: ', 0.0007970333099365234)\n",
      "('n: ', 43, ' num: ', 1, ' time: ', 0.0007619857788085938)\n",
      "('n: ', 44, ' num: ', 2, ' time: ', 0.0008909702301025391)\n",
      "('n: ', 45, ' num: ', 2, ' time: ', 0.00090789794921875)\n",
      "('n: ', 46, ' num: ', 1, ' time: ', 0.00030112266540527344)\n",
      "('n: ', 47, ' num: ', 1, ' time: ', 0.0002970695495605469)\n",
      "('n: ', 48, ' num: ', 3, ' time: ', 0.0019190311431884766)\n",
      "('n: ', 49, ' num: ', 2, ' time: ', 0.0004680156707763672)\n",
      "('n: ', 50, ' num: ', 2, ' time: ', 0.0005421638488769531)\n"
     ]
    }
   ],
   "source": [
    "for n in range(40,51):\n",
    "    start = time.time()\n",
    "    temp = trig.trig_srHNFs(n)\n",
    "#    if len(temp) > 0:\n",
    "#        print(temp)\n",
    "    end = time.time()\n",
    "    if len(temp) >0:\n",
    "        print(\"n: \",n,\" num: \",len(temp),\" time: \",end-start)"
   ]
  },
  {
   "cell_type": "code",
   "execution_count": 10,
   "metadata": {
    "collapsed": false,
    "deletable": true,
    "editable": true
   },
   "outputs": [
    {
     "name": "stdout",
     "output_type": "stream",
     "text": [
      "11.8299689293\n"
     ]
    }
   ],
   "source": [
    "start = time.time()\n",
    "trig.trig_srHNFs(100000)\n",
    "end = time.time()\n",
    "print(end-start)"
   ]
  },
  {
   "cell_type": "code",
   "execution_count": 7,
   "metadata": {
    "collapsed": false,
    "deletable": true,
    "editable": true
   },
   "outputs": [
    {
     "name": "stdout",
     "output_type": "stream",
     "text": [
      "('n: ', 50, ' num: ', 6, ' time: ', 0.0005650520324707031)\n",
      "('n: ', 51, ' num: ', 1, ' time: ', 0.0002810955047607422)\n",
      "('n: ', 52, ' num: ', 5, ' time: ', 0.00037789344787597656)\n",
      "('n: ', 53, ' num: ', 1, ' time: ', 0.00016307830810546875)\n",
      "('n: ', 54, ' num: ', 6, ' time: ', 0.00031304359436035156)\n",
      "('n: ', 55, ' num: ', 1, ' time: ', 0.00017404556274414062)\n",
      "('n: ', 56, ' num: ', 7, ' time: ', 0.00043702125549316406)\n",
      "('n: ', 57, ' num: ', 1, ' time: ', 0.00016999244689941406)\n",
      "('n: ', 58, ' num: ', 3, ' time: ', 0.00026297569274902344)\n",
      "('n: ', 59, ' num: ', 1, ' time: ', 0.0001900196075439453)\n"
     ]
    }
   ],
   "source": [
    "for n in range(50,60):\n",
    "    start = time.time()\n",
    "    temp = stet.stet_srHNFs(n)\n",
    "#    if len(temp) > 0:\n",
    "#        print(temp)\n",
    "    end = time.time()\n",
    "    if len(temp) >0:\n",
    "        print(\"n: \",n,\" num: \",len(temp),\" time: \",end-start)"
   ]
  },
  {
   "cell_type": "code",
   "execution_count": 4,
   "metadata": {
    "collapsed": true,
    "deletable": true,
    "editable": true
   },
   "outputs": [],
   "source": [
    "a = [[1,0,0],[0,1,0],[0,0,1]]\n",
    "b = [[[2,0,0],[0,2,0],[0,0,2]],[[1,0,0],[1,1,0],[0,0,2]]]"
   ]
  },
  {
   "cell_type": "code",
   "execution_count": 5,
   "metadata": {
    "collapsed": false
   },
   "outputs": [
    {
     "data": {
      "text/plain": [
       "False"
      ]
     },
     "execution_count": 5,
     "metadata": {},
     "output_type": "execute_result"
    }
   ],
   "source": [
    "a in b"
   ]
  },
  {
   "cell_type": "code",
   "execution_count": 6,
   "metadata": {
    "collapsed": true
   },
   "outputs": [],
   "source": [
    "a = [[2,0,0],[0,2,0],[0,0,2]]"
   ]
  },
  {
   "cell_type": "code",
   "execution_count": 7,
   "metadata": {
    "collapsed": false
   },
   "outputs": [
    {
     "data": {
      "text/plain": [
       "True"
      ]
     },
     "execution_count": 7,
     "metadata": {},
     "output_type": "execute_result"
    }
   ],
   "source": [
    "a in b"
   ]
  },
  {
   "cell_type": "code",
   "execution_count": 3,
   "metadata": {
    "collapsed": false
   },
   "outputs": [
    {
     "name": "stdout",
     "output_type": "stream",
     "text": [
      "('d: ', 0)\n",
      "('d: ', 1)\n",
      "('d: ', 2)\n",
      "('d: ', 3)\n",
      "('d: ', 4)\n",
      "('d: ', 5)\n",
      "('d: ', 6)\n",
      "('d: ', 7)\n",
      "('d: ', 8)\n",
      "('d: ', 9)\n",
      "('d: ', 10)\n",
      "('d: ', 11)\n",
      "('d: ', 12)\n",
      "('d: ', 13)\n",
      "('d: ', 14)\n",
      "('d: ', 15)\n",
      "('d: ', 16)\n",
      "('d: ', 17)\n",
      "('d: ', 18)\n",
      "('d: ', 19)\n",
      "('d: ', 0)\n",
      "('d: ', 1)\n",
      "('d: ', 2)\n",
      "('d: ', 3)\n",
      "('d: ', 4)\n",
      "('d: ', 5)\n",
      "('d: ', 6)\n",
      "('d: ', 7)\n",
      "('d: ', 8)\n",
      "('d: ', 9)\n",
      "('d: ', 0)\n",
      "('d: ', 2)\n",
      "('d: ', 4)\n",
      "('d: ', 6)\n",
      "('d: ', 8)\n"
     ]
    },
    {
     "data": {
      "text/plain": [
       "[[[1, 0, 0], [0, 1, 0], [19, 19, 20]], [[1, 0, 0], [1, 2, 0], [3, 8, 10]]]"
      ]
     },
     "execution_count": 3,
     "metadata": {},
     "output_type": "execute_result"
    }
   ],
   "source": [
    "import trig\n",
    "trig.trig_srHNFs(20)"
   ]
  },
  {
   "cell_type": "code",
   "execution_count": null,
   "metadata": {
    "collapsed": true
   },
   "outputs": [],
   "source": []
  }
 ],
 "metadata": {
  "kernelspec": {
   "display_name": "Python 2",
   "language": "python",
   "name": "python2"
  },
  "language_info": {
   "codemirror_mode": {
    "name": "ipython",
    "version": 2
   },
   "file_extension": ".py",
   "mimetype": "text/x-python",
   "name": "python",
   "nbconvert_exporter": "python",
   "pygments_lexer": "ipython2",
   "version": "2.7.9"
  }
 },
 "nbformat": 4,
 "nbformat_minor": 2
}
