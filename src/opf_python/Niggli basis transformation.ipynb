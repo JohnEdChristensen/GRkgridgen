{
 "cells": [
  {
   "cell_type": "code",
   "execution_count": 1,
   "metadata": {
    "collapsed": false
   },
   "outputs": [],
   "source": [
    "import numpy as np\n",
    "import pyniggli\n",
    "from opf_python.lat_type import lat_type\n",
    "from opf_python.niggli_lat_id import niggli_id"
   ]
  },
  {
   "cell_type": "code",
   "execution_count": 2,
   "metadata": {
    "collapsed": true
   },
   "outputs": [],
   "source": [
    "def niggli_setting(A):\n",
    "    \"\"\"Finds the corrdinates in G6 for the lattice A. Where G6 is\n",
    "    [A[:,0].A[:,0],A[:,1].A[:,1],A[:,2].A[:,2],\n",
    "    2*A[:,1].A[:,2],2*A[:,2].A[:,0],2*A[:,0].A[:,1]]\n",
    "    \n",
    "    Args:\n",
    "        A (numpy array): The lattice vectors as columns of a matrix.\n",
    "        \n",
    "    Returns:\n",
    "        G (list): The coordinates on G6 space.\n",
    "    \"\"\"\n",
    "    \n",
    "    a = A[:,0]\n",
    "    b = A[:,1]\n",
    "    c = A[:,2]\n",
    "    A = np.dot(a,a)\n",
    "    B = np.dot(b,b)\n",
    "    C = np.dot(c,c)\n",
    "    xi = np.dot(b,c)\n",
    "    eta = np.dot(a,c)\n",
    "    zeta = np.dot(a,b)\n",
    "    \n",
    "    G = [A,B,C,xi,eta,zeta]\n",
    "    return G"
   ]
  },
  {
   "cell_type": "markdown",
   "metadata": {},
   "source": [
    "# The Idea\n",
    "\n",
    "The idea here is to try and see if we can figure out a method to transform the symmetry preserving supercell from our basis to the users basis by using the niggli reduced cell. The workflow would be as follows:\n",
    "\n",
    "1) identify which of the 44 niggli cells is in use (there are two triclinic cells included in those 44 which we'll disregard)\n",
    "\n",
    "2) Find the Supercell in the niggli basis\n",
    "\n",
    "3) Transform back to the users basis.\n",
    "\n",
    "UC = N\n",
    "\n",
    "S = NHCinv\n",
    "\n",
    "# Face centered cubic\n",
    "\n",
    "## First basis\n",
    "\n",
    "Face centered cubic makes a good test case for the cubic cells, all cubic cells have a single unique niggli cell."
   ]
  },
  {
   "cell_type": "code",
   "execution_count": 3,
   "metadata": {
    "collapsed": true
   },
   "outputs": [],
   "source": [
    "from fcc import fcc_srHNFs"
   ]
  },
  {
   "cell_type": "code",
   "execution_count": 4,
   "metadata": {
    "collapsed": false
   },
   "outputs": [],
   "source": [
    "U = np.transpose([[0.5,0,0.5],[0.5,0.5,0],[0,0,1]])\n",
    "B = pyniggli.reduced_cell(U)\n",
    "N = B.niggli\n",
    "C = B.C"
   ]
  },
  {
   "cell_type": "markdown",
   "metadata": {},
   "source": [
    "Using the brute force method I've now confirmed that this niggli cell has the same symmetry preserving HNFs as our original basis choice.\n",
    "\n",
    "Now we'll verify that HNFs of different volume factors (VF) get transformed to the users basis properly.\n",
    "\n",
    "### VF 4"
   ]
  },
  {
   "cell_type": "code",
   "execution_count": 5,
   "metadata": {
    "collapsed": false
   },
   "outputs": [],
   "source": [
    "H = fcc_srHNFs(4)[0]"
   ]
  },
  {
   "cell_type": "code",
   "execution_count": 6,
   "metadata": {
    "collapsed": false
   },
   "outputs": [
    {
     "data": {
      "text/plain": [
       "('sc', array([[1, 0, 0],\n",
       "        [0, 1, 0],\n",
       "        [0, 0, 1]]), [0, 1, 2])"
      ]
     },
     "execution_count": 6,
     "metadata": {},
     "output_type": "execute_result"
    }
   ],
   "source": [
    "S = np.dot(np.dot(N,H),np.linalg.inv(C))\n",
    "lat_name(np.transpose(S))"
   ]
  },
  {
   "cell_type": "code",
   "execution_count": 7,
   "metadata": {
    "collapsed": false
   },
   "outputs": [
    {
     "data": {
      "text/plain": [
       "array([[ 2.,  0.,  0.],\n",
       "       [ 0.,  2.,  1.],\n",
       "       [ 0.,  0.,  1.]])"
      ]
     },
     "execution_count": 7,
     "metadata": {},
     "output_type": "execute_result"
    }
   ],
   "source": [
    "r = np.linalg.inv(np.transpose(U))\n",
    "g = np.linalg.inv(np.transpose(S))\n",
    "np.round(np.dot(np.linalg.inv(g),r),3)"
   ]
  },
  {
   "cell_type": "markdown",
   "metadata": {},
   "source": [
    "Looks like the volume factor of 4 worked out.\n",
    "\n",
    "### VF 16"
   ]
  },
  {
   "cell_type": "code",
   "execution_count": 8,
   "metadata": {
    "collapsed": false
   },
   "outputs": [
    {
     "data": {
      "text/plain": [
       "('bcc', array([[-1,  1,  1],\n",
       "        [ 1, -1,  1],\n",
       "        [ 1,  1, -1]]), [0, 1, 2])"
      ]
     },
     "execution_count": 8,
     "metadata": {},
     "output_type": "execute_result"
    }
   ],
   "source": [
    "H = fcc_srHNFs(16)[0]\n",
    "S = np.dot(np.dot(N,H),np.linalg.inv(C))\n",
    "lat_name(np.transpose(S))"
   ]
  },
  {
   "cell_type": "code",
   "execution_count": 9,
   "metadata": {
    "collapsed": false
   },
   "outputs": [
    {
     "data": {
      "text/plain": [
       "array([[ 4., -0., -0.],\n",
       "       [ 0.,  2.,  1.],\n",
       "       [ 0.,  2.,  3.]])"
      ]
     },
     "execution_count": 9,
     "metadata": {},
     "output_type": "execute_result"
    }
   ],
   "source": [
    "r = np.linalg.inv(np.transpose(U))\n",
    "g = np.linalg.inv(np.transpose(S))\n",
    "np.round(np.dot(np.linalg.inv(g),r),3)"
   ]
  },
  {
   "cell_type": "markdown",
   "metadata": {},
   "source": [
    "So far so good. Now let's check one more case.\n",
    "\n",
    "### VF 32"
   ]
  },
  {
   "cell_type": "code",
   "execution_count": 10,
   "metadata": {
    "collapsed": false
   },
   "outputs": [
    {
     "data": {
      "text/plain": [
       "('sc', array([[1, 0, 0],\n",
       "        [0, 1, 0],\n",
       "        [0, 0, 1]]), [0, 1, 2])"
      ]
     },
     "execution_count": 10,
     "metadata": {},
     "output_type": "execute_result"
    }
   ],
   "source": [
    "H = fcc_srHNFs(32)[0]\n",
    "S = np.dot(np.dot(N,H),np.linalg.inv(C))\n",
    "lat_name(np.transpose(S))"
   ]
  },
  {
   "cell_type": "code",
   "execution_count": 11,
   "metadata": {
    "collapsed": false
   },
   "outputs": [
    {
     "data": {
      "text/plain": [
       "array([[ 4.,  0.,  0.],\n",
       "       [ 0.,  4.,  2.],\n",
       "       [ 0.,  0.,  2.]])"
      ]
     },
     "execution_count": 11,
     "metadata": {},
     "output_type": "execute_result"
    }
   ],
   "source": [
    "r = np.linalg.inv(np.transpose(U))\n",
    "g = np.linalg.inv(np.transpose(S))\n",
    "np.round(np.dot(np.linalg.inv(g),r),3)"
   ]
  },
  {
   "cell_type": "markdown",
   "metadata": {},
   "source": [
    "## Second FCC basis\n",
    "\n",
    "Let's do a second basis just to be sure."
   ]
  },
  {
   "cell_type": "code",
   "execution_count": 12,
   "metadata": {
    "collapsed": true
   },
   "outputs": [],
   "source": [
    "U = np.transpose([[1,1,2],[1,0,1],[2,1,1]])\n",
    "B = pyniggli.reduced_cell(U)\n",
    "N = B.niggli\n",
    "C = B.C"
   ]
  },
  {
   "cell_type": "markdown",
   "metadata": {},
   "source": [
    "### VF 4"
   ]
  },
  {
   "cell_type": "code",
   "execution_count": 13,
   "metadata": {
    "collapsed": false
   },
   "outputs": [
    {
     "data": {
      "text/plain": [
       "('sc', array([[1, 0, 0],\n",
       "        [0, 1, 0],\n",
       "        [0, 0, 1]]), [0, 1, 2])"
      ]
     },
     "execution_count": 13,
     "metadata": {},
     "output_type": "execute_result"
    }
   ],
   "source": [
    "H = fcc_srHNFs(4)[0]\n",
    "S = np.dot(np.dot(N,H),np.linalg.inv(C))\n",
    "lat_name(np.transpose(S))"
   ]
  },
  {
   "cell_type": "code",
   "execution_count": 14,
   "metadata": {
    "collapsed": false
   },
   "outputs": [
    {
     "data": {
      "text/plain": [
       "array([[ 1.,  1.,  1.],\n",
       "       [ 0.,  2.,  0.],\n",
       "       [ 0.,  0.,  2.]])"
      ]
     },
     "execution_count": 14,
     "metadata": {},
     "output_type": "execute_result"
    }
   ],
   "source": [
    "r = np.linalg.inv(np.transpose(U))\n",
    "g = np.linalg.inv(np.transpose(S))\n",
    "np.round(np.dot(np.linalg.inv(g),r),3)"
   ]
  },
  {
   "cell_type": "markdown",
   "metadata": {},
   "source": [
    "### VF 16"
   ]
  },
  {
   "cell_type": "code",
   "execution_count": 15,
   "metadata": {
    "collapsed": false
   },
   "outputs": [
    {
     "data": {
      "text/plain": [
       "('bcc', array([[-1,  1,  1],\n",
       "        [ 1, -1,  1],\n",
       "        [ 1,  1, -1]]), [0, 1, 2])"
      ]
     },
     "execution_count": 15,
     "metadata": {},
     "output_type": "execute_result"
    }
   ],
   "source": [
    "H = fcc_srHNFs(16)[0]\n",
    "S = np.dot(np.dot(N,H),np.linalg.inv(C))\n",
    "lat_name(np.transpose(S))"
   ]
  },
  {
   "cell_type": "code",
   "execution_count": 16,
   "metadata": {
    "collapsed": false
   },
   "outputs": [
    {
     "data": {
      "text/plain": [
       "array([[ 1.,  3.,  1.],\n",
       "       [ 0.,  4.,  0.],\n",
       "       [ 0.,  0.,  4.]])"
      ]
     },
     "execution_count": 16,
     "metadata": {},
     "output_type": "execute_result"
    }
   ],
   "source": [
    "r = np.linalg.inv(np.transpose(U))\n",
    "g = np.linalg.inv(np.transpose(S))\n",
    "np.round(np.dot(np.linalg.inv(g),r),3)"
   ]
  },
  {
   "cell_type": "markdown",
   "metadata": {},
   "source": [
    "### VF 32"
   ]
  },
  {
   "cell_type": "code",
   "execution_count": 17,
   "metadata": {
    "collapsed": false
   },
   "outputs": [
    {
     "data": {
      "text/plain": [
       "('sc', array([[1, 0, 0],\n",
       "        [0, 1, 0],\n",
       "        [0, 0, 1]]), [0, 1, 2])"
      ]
     },
     "execution_count": 17,
     "metadata": {},
     "output_type": "execute_result"
    }
   ],
   "source": [
    "H = fcc_srHNFs(32)[0]\n",
    "S = np.dot(np.dot(N,H),np.linalg.inv(C))\n",
    "lat_name(np.transpose(S))"
   ]
  },
  {
   "cell_type": "code",
   "execution_count": 18,
   "metadata": {
    "collapsed": false
   },
   "outputs": [
    {
     "data": {
      "text/plain": [
       "array([[ 2.,  2.,  2.],\n",
       "       [ 0.,  4.,  0.],\n",
       "       [ 0.,  0.,  4.]])"
      ]
     },
     "execution_count": 18,
     "metadata": {},
     "output_type": "execute_result"
    }
   ],
   "source": [
    "r = np.linalg.inv(np.transpose(U))\n",
    "g = np.linalg.inv(np.transpose(S))\n",
    "np.round(np.dot(np.linalg.inv(g),r),3)"
   ]
  },
  {
   "cell_type": "markdown",
   "metadata": {},
   "source": [
    "## FCC rotated basis (10 degrees about the z-axis)"
   ]
  },
  {
   "cell_type": "code",
   "execution_count": 19,
   "metadata": {
    "collapsed": true
   },
   "outputs": [],
   "source": [
    "R = [[np.cos(10.*np.pi/180.),-np.sin(10.*np.pi/180.),0],\n",
    "     [np.sin(10.*np.pi/180.),np.cos(10.*np.pi/180.),0],\n",
    "    [0,0,1]]\n",
    "U = np.dot(R,U)\n",
    "B = pyniggli.reduced_cell(U)\n",
    "N = B.niggli\n",
    "C = B.C"
   ]
  },
  {
   "cell_type": "markdown",
   "metadata": {},
   "source": [
    "### VF 4"
   ]
  },
  {
   "cell_type": "code",
   "execution_count": 21,
   "metadata": {
    "collapsed": false
   },
   "outputs": [
    {
     "data": {
      "text/plain": [
       "('sc', array([[1, 0, 0],\n",
       "        [0, 1, 0],\n",
       "        [0, 0, 1]]), [0, 1, 2])"
      ]
     },
     "execution_count": 21,
     "metadata": {},
     "output_type": "execute_result"
    }
   ],
   "source": [
    "H = fcc_srHNFs(4)[0]\n",
    "S = np.dot(np.dot(N,H),np.linalg.inv(C))\n",
    "lat_name(np.transpose(S))"
   ]
  },
  {
   "cell_type": "code",
   "execution_count": 22,
   "metadata": {
    "collapsed": false
   },
   "outputs": [
    {
     "data": {
      "text/plain": [
       "array([[ 1.,  1.,  1.],\n",
       "       [ 0.,  2.,  0.],\n",
       "       [ 0.,  0.,  2.]])"
      ]
     },
     "execution_count": 22,
     "metadata": {},
     "output_type": "execute_result"
    }
   ],
   "source": [
    "r = np.linalg.inv(np.transpose(U))\n",
    "g = np.linalg.inv(np.transpose(S))\n",
    "temp =np.round(np.dot(np.linalg.inv(g),r),3)"
   ]
  },
  {
   "cell_type": "code",
   "execution_count": 29,
   "metadata": {
    "collapsed": false
   },
   "outputs": [
    {
     "data": {
      "text/plain": [
       "True"
      ]
     },
     "execution_count": 29,
     "metadata": {},
     "output_type": "execute_result"
    }
   ],
   "source": [
    "np.allclose(temp%1,0)"
   ]
  },
  {
   "cell_type": "markdown",
   "metadata": {},
   "source": [
    "### VF 16"
   ]
  },
  {
   "cell_type": "code",
   "execution_count": 30,
   "metadata": {
    "collapsed": false
   },
   "outputs": [
    {
     "name": "stdout",
     "output_type": "stream",
     "text": [
      "bcc\n"
     ]
    },
    {
     "data": {
      "text/plain": [
       "True"
      ]
     },
     "execution_count": 30,
     "metadata": {},
     "output_type": "execute_result"
    }
   ],
   "source": [
    "H = fcc_srHNFs(16)[0]\n",
    "S = np.dot(np.dot(N,H),np.linalg.inv(C))\n",
    "print(lat_name(np.transpose(S))[0])\n",
    "r = np.linalg.inv(np.transpose(U))\n",
    "g = np.linalg.inv(np.transpose(S))\n",
    "temp = np.round(np.dot(np.linalg.inv(g),r),3)\n",
    "np.allclose(temp%1,0)"
   ]
  },
  {
   "cell_type": "markdown",
   "metadata": {},
   "source": [
    "### VF 32"
   ]
  },
  {
   "cell_type": "code",
   "execution_count": 31,
   "metadata": {
    "collapsed": false
   },
   "outputs": [
    {
     "name": "stdout",
     "output_type": "stream",
     "text": [
      "sc\n"
     ]
    },
    {
     "data": {
      "text/plain": [
       "True"
      ]
     },
     "execution_count": 31,
     "metadata": {},
     "output_type": "execute_result"
    }
   ],
   "source": [
    "H = fcc_srHNFs(32)[0]\n",
    "S = np.dot(np.dot(N,H),np.linalg.inv(C))\n",
    "print(lat_name(np.transpose(S))[0])\n",
    "r = np.linalg.inv(np.transpose(U))\n",
    "g = np.linalg.inv(np.transpose(S))\n",
    "temp = np.round(np.dot(np.linalg.inv(g),r),3)\n",
    "np.allclose(temp%1,0)"
   ]
  },
  {
   "cell_type": "markdown",
   "metadata": {},
   "source": [
    "# Simple Tetragonal\n",
    "\n",
    "Now we should check a second crystal choice. Simple tetragonal cell's are another where we already have the symmetry preserving HNFs for one of the two niggli cells. We'll have to restrict ourselves to the niggli setting with lattice norms of [A,A,C] where C > A for these tests. The following 4 lattices satisfy that condition."
   ]
  },
  {
   "cell_type": "code",
   "execution_count": 3,
   "metadata": {
    "collapsed": true
   },
   "outputs": [],
   "source": [
    "from stet import stet_srHNFs"
   ]
  },
  {
   "cell_type": "code",
   "execution_count": 4,
   "metadata": {
    "collapsed": true
   },
   "outputs": [],
   "source": [
    "a1 = np.array([1,0,0])\n",
    "a2 = np.array([0,1,0])\n",
    "a3 = np.array([0,0,2])\n",
    "\n",
    "As = [[a1+a2,a2,a3+a1],[a1+a2+a3,a2+a3,a1+a2],[a1,a2+a1,a3+a3],[-a1,-a2+a3,a3]]"
   ]
  },
  {
   "cell_type": "markdown",
   "metadata": {},
   "source": [
    "## First Basis Choice"
   ]
  },
  {
   "cell_type": "code",
   "execution_count": 5,
   "metadata": {
    "collapsed": false
   },
   "outputs": [],
   "source": [
    "U = np.random.random()*np.transpose(As[0])\n",
    "B = pyniggli.reduced_cell(U)\n",
    "N = B.niggli\n",
    "C = B.C"
   ]
  },
  {
   "cell_type": "markdown",
   "metadata": {},
   "source": [
    "### VF 10"
   ]
  },
  {
   "cell_type": "code",
   "execution_count": 7,
   "metadata": {
    "collapsed": false
   },
   "outputs": [
    {
     "name": "stdout",
     "output_type": "stream",
     "text": [
      "('Passed HNF number: ', 0)\n",
      "('Passed HNF number: ', 1)\n",
      "('Passed HNF number: ', 2)\n"
     ]
    }
   ],
   "source": [
    "HNFs = stet_srHNFs(10)\n",
    "crystal_fam = 4\n",
    "for i in range(len(HNFs)):\n",
    "    H = HNFs[i]\n",
    "    S = np.dot(np.dot(N,H),np.linalg.inv(C))\n",
    "    lat_name, niggli_n, lat_fam = niggli_id(S)\n",
    "    r = np.linalg.inv(np.transpose(U))\n",
    "    g = np.linalg.inv(np.transpose(S))\n",
    "    temp = np.round(np.dot(np.linalg.inv(g),r),3)\n",
    "    if lat_fam > crystal_fam or not np.allclose(temp%1,0):\n",
    "        print(\"FAILED on HNF number: \",i)\n",
    "    else:\n",
    "        print(\"Passed HNF number: \",i)"
   ]
  },
  {
   "cell_type": "markdown",
   "metadata": {},
   "source": [
    "### VF 80"
   ]
  },
  {
   "cell_type": "code",
   "execution_count": 10,
   "metadata": {
    "collapsed": false
   },
   "outputs": [
    {
     "name": "stdout",
     "output_type": "stream",
     "text": [
      "('Passed HNF number: ', 0)\n",
      "('Passed HNF number: ', 1)\n",
      "('Passed HNF number: ', 2)\n",
      "('Passed HNF number: ', 3)\n",
      "('Passed HNF number: ', 4)\n",
      "('Passed HNF number: ', 5)\n",
      "('Passed HNF number: ', 6)\n",
      "('Passed HNF number: ', 7)\n",
      "('Passed HNF number: ', 8)\n"
     ]
    }
   ],
   "source": [
    "HNFs = stet_srHNFs(80)\n",
    "crystal_fam = 4\n",
    "for i in range(len(HNFs)):\n",
    "    H = HNFs[i]\n",
    "    S = np.dot(np.dot(N,H),np.linalg.inv(C))\n",
    "    lat_name, niggli_n, lat_fam = niggli_id(S)\n",
    "    r = np.linalg.inv(np.transpose(U))\n",
    "    g = np.linalg.inv(np.transpose(S))\n",
    "    temp = np.round(np.dot(np.linalg.inv(g),r),3)\n",
    "    if lat_fam > crystal_fam or not np.allclose(temp%1,0):\n",
    "        print(\"FAILED on HNF number: \",i)\n",
    "    else:\n",
    "        print(\"Passed HNF number: \",i)"
   ]
  },
  {
   "cell_type": "markdown",
   "metadata": {},
   "source": [
    "## Second basis choice"
   ]
  },
  {
   "cell_type": "code",
   "execution_count": 11,
   "metadata": {
    "collapsed": true
   },
   "outputs": [],
   "source": [
    "U = np.random.random()*np.transpose(As[1])\n",
    "B = pyniggli.reduced_cell(U)\n",
    "N = B.niggli\n",
    "C = B.C"
   ]
  },
  {
   "cell_type": "markdown",
   "metadata": {},
   "source": [
    "### VF 120"
   ]
  },
  {
   "cell_type": "code",
   "execution_count": 12,
   "metadata": {
    "collapsed": false
   },
   "outputs": [
    {
     "name": "stdout",
     "output_type": "stream",
     "text": [
      "('Passed HNF number: ', 0)\n",
      "('Passed HNF number: ', 1)\n",
      "('Passed HNF number: ', 2)\n",
      "('Passed HNF number: ', 3)\n",
      "('Passed HNF number: ', 4)\n",
      "('Passed HNF number: ', 5)\n",
      "('Passed HNF number: ', 6)\n"
     ]
    }
   ],
   "source": [
    "HNFs = stet_srHNFs(120)\n",
    "crystal_fam = 4\n",
    "for i in range(len(HNFs)):\n",
    "    H = HNFs[i]\n",
    "    S = np.dot(np.dot(N,H),np.linalg.inv(C))\n",
    "    lat_name, niggli_n, lat_fam = niggli_id(S)\n",
    "    r = np.linalg.inv(np.transpose(U))\n",
    "    g = np.linalg.inv(np.transpose(S))\n",
    "    temp = np.round(np.dot(np.linalg.inv(g),r),3)\n",
    "    if lat_fam > crystal_fam or not np.allclose(temp%1,0):\n",
    "        print(\"FAILED on HNF number: \",i)\n",
    "    else:\n",
    "        print(\"Passed HNF number: \",i)"
   ]
  },
  {
   "cell_type": "markdown",
   "metadata": {},
   "source": [
    "### VF 12"
   ]
  },
  {
   "cell_type": "code",
   "execution_count": 13,
   "metadata": {
    "collapsed": false
   },
   "outputs": [
    {
     "name": "stdout",
     "output_type": "stream",
     "text": [
      "('Passed HNF number: ', 0)\n",
      "('Passed HNF number: ', 1)\n",
      "('Passed HNF number: ', 2)\n",
      "('Passed HNF number: ', 3)\n",
      "('Passed HNF number: ', 4)\n"
     ]
    }
   ],
   "source": [
    "HNFs = stet_srHNFs(12)\n",
    "crystal_fam = 4\n",
    "for i in range(len(HNFs)):\n",
    "    H = HNFs[i]\n",
    "    S = np.dot(np.dot(N,H),np.linalg.inv(C))\n",
    "    lat_name, niggli_n, lat_fam = niggli_id(S)\n",
    "    r = np.linalg.inv(np.transpose(U))\n",
    "    g = np.linalg.inv(np.transpose(S))\n",
    "    temp = np.round(np.dot(np.linalg.inv(g),r),3)\n",
    "    if lat_fam > crystal_fam or not np.allclose(temp%1,0):\n",
    "        print(\"FAILED on HNF number: \",i)\n",
    "    else:\n",
    "        print(\"Passed HNF number: \",i)"
   ]
  },
  {
   "cell_type": "markdown",
   "metadata": {},
   "source": [
    "## Third Basis Choice (rotated by 15 degrees)"
   ]
  },
  {
   "cell_type": "code",
   "execution_count": 7,
   "metadata": {
    "collapsed": false
   },
   "outputs": [],
   "source": [
    "R = [[np.cos(15.*np.pi/180.),-np.sin(15.*np.pi/180.),0],\n",
    "     [np.sin(15.*np.pi/180.),np.cos(15.*np.pi/180.),0],\n",
    "    [0,0,1]]\n",
    "U = np.random.random()*np.transpose(As[2])\n",
    "U = np.dot(R,U)\n",
    "B = pyniggli.reduced_cell(U)\n",
    "N = B.niggli\n",
    "C = B.C"
   ]
  },
  {
   "cell_type": "markdown",
   "metadata": {},
   "source": [
    "### VF 9"
   ]
  },
  {
   "cell_type": "code",
   "execution_count": 8,
   "metadata": {
    "collapsed": false
   },
   "outputs": [
    {
     "name": "stdout",
     "output_type": "stream",
     "text": [
      "('Passed HNF number: ', 0)\n",
      "('Passed HNF number: ', 1)\n"
     ]
    }
   ],
   "source": [
    "HNFs = stet_srHNFs(9)\n",
    "crystal_fam = 4\n",
    "for i in range(len(HNFs)):\n",
    "    H = HNFs[i]\n",
    "    S = np.dot(np.dot(N,H),np.linalg.inv(C))\n",
    "    lat_name, niggli_n, lat_fam = niggli_id(S)\n",
    "    r = np.linalg.inv(np.transpose(U))\n",
    "    g = np.linalg.inv(np.transpose(S))\n",
    "    temp = np.round(np.dot(np.linalg.inv(g),r),3)\n",
    "    if lat_fam > crystal_fam or not np.allclose(temp%1,0):\n",
    "        print(\"FAILED on HNF number: \",i)\n",
    "    else:\n",
    "        print(\"Passed HNF number: \",i)"
   ]
  },
  {
   "cell_type": "markdown",
   "metadata": {},
   "source": [
    "### VF 125"
   ]
  },
  {
   "cell_type": "code",
   "execution_count": 9,
   "metadata": {
    "collapsed": false
   },
   "outputs": [
    {
     "name": "stdout",
     "output_type": "stream",
     "text": [
      "('Passed HNF number: ', 0)\n",
      "('Passed HNF number: ', 1)\n"
     ]
    }
   ],
   "source": [
    "HNFs = stet_srHNFs(125)\n",
    "crystal_fam = 4\n",
    "for i in range(len(HNFs)):\n",
    "    H = HNFs[i]\n",
    "    S = np.dot(np.dot(N,H),np.linalg.inv(C))\n",
    "    lat_name, niggli_n, lat_fam = niggli_id(S)\n",
    "    r = np.linalg.inv(np.transpose(U))\n",
    "    g = np.linalg.inv(np.transpose(S))\n",
    "    temp = np.round(np.dot(np.linalg.inv(g),r),3)\n",
    "    if lat_fam > crystal_fam or not np.allclose(temp%1,0):\n",
    "        print(\"FAILED on HNF number: \",i)\n",
    "    else:\n",
    "        print(\"Passed HNF number: \",i)"
   ]
  },
  {
   "cell_type": "markdown",
   "metadata": {},
   "source": [
    "## Fourth Basis Choice (rotated by 27 degrees)"
   ]
  },
  {
   "cell_type": "code",
   "execution_count": 5,
   "metadata": {
    "collapsed": true
   },
   "outputs": [],
   "source": [
    "R = [[np.cos(27.*np.pi/180.),-np.sin(27.*np.pi/180.),0],\n",
    "     [np.sin(27.*np.pi/180.),np.cos(27.*np.pi/180.),0],\n",
    "    [0,0,1]]\n",
    "U = np.random.random()*np.transpose(As[3])\n",
    "U = np.dot(R,U)\n",
    "B = pyniggli.reduced_cell(U)\n",
    "N = B.niggli\n",
    "C = B.C"
   ]
  },
  {
   "cell_type": "markdown",
   "metadata": {},
   "source": [
    "### VF 12"
   ]
  },
  {
   "cell_type": "code",
   "execution_count": 6,
   "metadata": {
    "collapsed": false
   },
   "outputs": [
    {
     "name": "stdout",
     "output_type": "stream",
     "text": [
      "('Passed HNF number: ', 0)\n",
      "('Passed HNF number: ', 1)\n",
      "('Passed HNF number: ', 2)\n",
      "('Passed HNF number: ', 3)\n",
      "('Passed HNF number: ', 4)\n"
     ]
    }
   ],
   "source": [
    "HNFs = stet_srHNFs(12)\n",
    "crystal_fam = 4\n",
    "for i in range(len(HNFs)):\n",
    "    H = HNFs[i]\n",
    "    S = np.dot(np.dot(N,H),np.linalg.inv(C))\n",
    "    lat_name, niggli_n, lat_fam = niggli_id(S)\n",
    "    r = np.linalg.inv(np.transpose(U))\n",
    "    g = np.linalg.inv(np.transpose(S))\n",
    "    temp = np.round(np.dot(np.linalg.inv(g),r),3)\n",
    "    if lat_fam > crystal_fam or not np.allclose(temp%1,0):\n",
    "        print(\"FAILED on HNF number: \",i)\n",
    "    else:\n",
    "        print(\"Passed HNF number: \",i)"
   ]
  },
  {
   "cell_type": "markdown",
   "metadata": {},
   "source": [
    "### VF 1000"
   ]
  },
  {
   "cell_type": "code",
   "execution_count": 7,
   "metadata": {
    "collapsed": false
   },
   "outputs": [
    {
     "name": "stdout",
     "output_type": "stream",
     "text": [
      "('Passed HNF number: ', 0)\n",
      "('Passed HNF number: ', 1)\n",
      "('Passed HNF number: ', 2)\n",
      "('Passed HNF number: ', 3)\n",
      "('Passed HNF number: ', 4)\n",
      "('Passed HNF number: ', 5)\n",
      "('Passed HNF number: ', 6)\n",
      "('Passed HNF number: ', 7)\n",
      "('Passed HNF number: ', 8)\n",
      "('Passed HNF number: ', 9)\n",
      "('Passed HNF number: ', 10)\n",
      "('Passed HNF number: ', 11)\n",
      "('Passed HNF number: ', 12)\n",
      "('Passed HNF number: ', 13)\n"
     ]
    }
   ],
   "source": [
    "HNFs = stet_srHNFs(1000)\n",
    "crystal_fam = 4\n",
    "for i in range(len(HNFs)):\n",
    "    H = HNFs[i]\n",
    "    S = np.dot(np.dot(N,H),np.linalg.inv(C))\n",
    "    lat_name, niggli_n, lat_fam = niggli_id(S)\n",
    "    r = np.linalg.inv(np.transpose(U))\n",
    "    g = np.linalg.inv(np.transpose(S))\n",
    "    temp = np.round(np.dot(np.linalg.inv(g),r),3)\n",
    "    if lat_fam > crystal_fam or not np.allclose(temp%1,0):\n",
    "        print(\"FAILED on HNF number: \",i)\n",
    "    else:\n",
    "        print(\"Passed HNF number: \",i)"
   ]
  },
  {
   "cell_type": "markdown",
   "metadata": {},
   "source": [
    "# Simple Orthorhombic"
   ]
  },
  {
   "cell_type": "code",
   "execution_count": 3,
   "metadata": {
    "collapsed": true
   },
   "outputs": [],
   "source": [
    "from so import so_srHNFs"
   ]
  },
  {
   "cell_type": "code",
   "execution_count": 4,
   "metadata": {
    "collapsed": false
   },
   "outputs": [],
   "source": [
    "As = [[[1.00000000, 0.00000000, 0.00000000],\n",
    "       [0.00000000, 1.73205080, 0.00000000],\n",
    "       [0.00000000, 0.00000000, 3.26598640]],\n",
    "      [[0.50000000, 0.50000000, 0.00000000],\n",
    "      [0.00000000, 0.00000000, 1.00000000],\n",
    "      [1.50000000, -1.50000000, 0.00000000]],\n",
    "      [[0.50000000, 0.50000000, 0.00000000],\n",
    "      [0.00000000, 0.00000000, 1.00000000],\n",
    "      [2.00000000, -2.00000000, 0.00000000]]]\n",
    "As = [np.transpose(i) for i in As]"
   ]
  },
  {
   "cell_type": "markdown",
   "metadata": {},
   "source": [
    "## First basis choice"
   ]
  },
  {
   "cell_type": "code",
   "execution_count": 5,
   "metadata": {
    "collapsed": true
   },
   "outputs": [],
   "source": [
    "U = np.random.random()*As[0]\n",
    "B = pyniggli.reduced_cell(U)\n",
    "N = B.niggli\n",
    "C = B.C"
   ]
  },
  {
   "cell_type": "markdown",
   "metadata": {},
   "source": [
    "### VF 16"
   ]
  },
  {
   "cell_type": "code",
   "execution_count": 6,
   "metadata": {
    "collapsed": false
   },
   "outputs": [
    {
     "name": "stdout",
     "output_type": "stream",
     "text": [
      "('Passed HNF number: ', 0)\n",
      "('Passed HNF number: ', 1)\n",
      "('Passed HNF number: ', 2)\n",
      "('Passed HNF number: ', 3)\n",
      "('Passed HNF number: ', 4)\n",
      "('Passed HNF number: ', 5)\n",
      "('Passed HNF number: ', 6)\n",
      "('Passed HNF number: ', 7)\n",
      "('Passed HNF number: ', 8)\n",
      "('Passed HNF number: ', 9)\n",
      "('Passed HNF number: ', 10)\n",
      "('Passed HNF number: ', 11)\n",
      "('Passed HNF number: ', 12)\n",
      "('Passed HNF number: ', 13)\n",
      "('Passed HNF number: ', 14)\n",
      "('Passed HNF number: ', 15)\n",
      "('Passed HNF number: ', 16)\n",
      "('Passed HNF number: ', 17)\n",
      "('Passed HNF number: ', 18)\n",
      "('Passed HNF number: ', 19)\n",
      "('Passed HNF number: ', 20)\n",
      "('Passed HNF number: ', 21)\n",
      "('Passed HNF number: ', 22)\n",
      "('Passed HNF number: ', 23)\n",
      "('Passed HNF number: ', 24)\n",
      "('Passed HNF number: ', 25)\n",
      "('Passed HNF number: ', 26)\n",
      "('Passed HNF number: ', 27)\n",
      "('Passed HNF number: ', 28)\n",
      "('Passed HNF number: ', 29)\n",
      "('Passed HNF number: ', 30)\n",
      "('Passed HNF number: ', 31)\n",
      "('Passed HNF number: ', 32)\n",
      "('Passed HNF number: ', 33)\n",
      "('Passed HNF number: ', 34)\n",
      "('Passed HNF number: ', 35)\n",
      "('Passed HNF number: ', 36)\n",
      "('Passed HNF number: ', 37)\n",
      "('Passed HNF number: ', 38)\n",
      "('Passed HNF number: ', 39)\n",
      "('Passed HNF number: ', 40)\n",
      "('Passed HNF number: ', 41)\n",
      "('Passed HNF number: ', 42)\n",
      "('Passed HNF number: ', 43)\n",
      "('Passed HNF number: ', 44)\n",
      "('Passed HNF number: ', 45)\n",
      "('Passed HNF number: ', 46)\n",
      "('Passed HNF number: ', 47)\n",
      "('Passed HNF number: ', 48)\n",
      "('Passed HNF number: ', 49)\n",
      "('Passed HNF number: ', 50)\n",
      "('Passed HNF number: ', 51)\n",
      "('Passed HNF number: ', 52)\n",
      "('Passed HNF number: ', 53)\n",
      "('Passed HNF number: ', 54)\n",
      "('Passed HNF number: ', 55)\n",
      "('Passed HNF number: ', 56)\n",
      "('Passed HNF number: ', 57)\n",
      "('Passed HNF number: ', 58)\n",
      "('Passed HNF number: ', 59)\n",
      "('Passed HNF number: ', 60)\n"
     ]
    }
   ],
   "source": [
    "HNFs = so_srHNFs(16)\n",
    "crystal_fam = 5\n",
    "for i in range(len(HNFs)):\n",
    "    H = HNFs[i]\n",
    "    S = np.dot(np.dot(N,H),np.linalg.inv(C))\n",
    "    lat_name, niggli_n, lat_fam = niggli_id(S,eps_=1E-5)\n",
    "    r = np.linalg.inv(np.transpose(U))\n",
    "    g = np.linalg.inv(np.transpose(S))\n",
    "    temp = np.round(np.dot(np.linalg.inv(g),r),3)\n",
    "    if lat_fam > crystal_fam or not np.allclose(temp%1,0):\n",
    "        print(\"FAILED on HNF number: \",i)\n",
    "    else:\n",
    "        print(\"Passed HNF number: \",i)"
   ]
  },
  {
   "cell_type": "markdown",
   "metadata": {},
   "source": [
    "### VF 24"
   ]
  },
  {
   "cell_type": "code",
   "execution_count": 7,
   "metadata": {
    "collapsed": false
   },
   "outputs": [
    {
     "name": "stdout",
     "output_type": "stream",
     "text": [
      "('Passed HNF number: ', 0)\n",
      "('Passed HNF number: ', 1)\n",
      "('Passed HNF number: ', 2)\n",
      "('Passed HNF number: ', 3)\n",
      "('Passed HNF number: ', 4)\n",
      "('Passed HNF number: ', 5)\n",
      "('Passed HNF number: ', 6)\n",
      "('Passed HNF number: ', 7)\n",
      "('Passed HNF number: ', 8)\n",
      "('Passed HNF number: ', 9)\n",
      "('Passed HNF number: ', 10)\n",
      "('Passed HNF number: ', 11)\n",
      "('Passed HNF number: ', 12)\n",
      "('Passed HNF number: ', 13)\n",
      "('Passed HNF number: ', 14)\n",
      "('Passed HNF number: ', 15)\n",
      "('Passed HNF number: ', 16)\n",
      "('Passed HNF number: ', 17)\n",
      "('Passed HNF number: ', 18)\n",
      "('Passed HNF number: ', 19)\n",
      "('Passed HNF number: ', 20)\n",
      "('Passed HNF number: ', 21)\n",
      "('Passed HNF number: ', 22)\n",
      "('Passed HNF number: ', 23)\n",
      "('Passed HNF number: ', 24)\n",
      "('Passed HNF number: ', 25)\n",
      "('Passed HNF number: ', 26)\n",
      "('Passed HNF number: ', 27)\n",
      "('Passed HNF number: ', 28)\n",
      "('Passed HNF number: ', 29)\n",
      "('Passed HNF number: ', 30)\n",
      "('Passed HNF number: ', 31)\n",
      "('Passed HNF number: ', 32)\n",
      "('Passed HNF number: ', 33)\n",
      "('Passed HNF number: ', 34)\n",
      "('Passed HNF number: ', 35)\n",
      "('Passed HNF number: ', 36)\n",
      "('Passed HNF number: ', 37)\n",
      "('Passed HNF number: ', 38)\n",
      "('Passed HNF number: ', 39)\n",
      "('Passed HNF number: ', 40)\n",
      "('Passed HNF number: ', 41)\n",
      "('Passed HNF number: ', 42)\n",
      "('Passed HNF number: ', 43)\n",
      "('Passed HNF number: ', 44)\n",
      "('Passed HNF number: ', 45)\n",
      "('Passed HNF number: ', 46)\n",
      "('Passed HNF number: ', 47)\n",
      "('Passed HNF number: ', 48)\n",
      "('Passed HNF number: ', 49)\n",
      "('Passed HNF number: ', 50)\n",
      "('Passed HNF number: ', 51)\n",
      "('Passed HNF number: ', 52)\n",
      "('Passed HNF number: ', 53)\n",
      "('Passed HNF number: ', 54)\n",
      "('Passed HNF number: ', 55)\n",
      "('Passed HNF number: ', 56)\n",
      "('Passed HNF number: ', 57)\n",
      "('Passed HNF number: ', 58)\n",
      "('Passed HNF number: ', 59)\n",
      "('Passed HNF number: ', 60)\n",
      "('Passed HNF number: ', 61)\n",
      "('Passed HNF number: ', 62)\n",
      "('Passed HNF number: ', 63)\n",
      "('Passed HNF number: ', 64)\n",
      "('Passed HNF number: ', 65)\n",
      "('Passed HNF number: ', 66)\n",
      "('Passed HNF number: ', 67)\n",
      "('Passed HNF number: ', 68)\n",
      "('Passed HNF number: ', 69)\n",
      "('Passed HNF number: ', 70)\n",
      "('Passed HNF number: ', 71)\n",
      "('Passed HNF number: ', 72)\n",
      "('Passed HNF number: ', 73)\n",
      "('Passed HNF number: ', 74)\n",
      "('Passed HNF number: ', 75)\n",
      "('Passed HNF number: ', 76)\n",
      "('Passed HNF number: ', 77)\n",
      "('Passed HNF number: ', 78)\n",
      "('Passed HNF number: ', 79)\n",
      "('Passed HNF number: ', 80)\n",
      "('Passed HNF number: ', 81)\n",
      "('Passed HNF number: ', 82)\n",
      "('Passed HNF number: ', 83)\n",
      "('Passed HNF number: ', 84)\n",
      "('Passed HNF number: ', 85)\n",
      "('Passed HNF number: ', 86)\n",
      "('Passed HNF number: ', 87)\n",
      "('Passed HNF number: ', 88)\n",
      "('Passed HNF number: ', 89)\n",
      "('Passed HNF number: ', 90)\n",
      "('Passed HNF number: ', 91)\n",
      "('Passed HNF number: ', 92)\n",
      "('Passed HNF number: ', 93)\n",
      "('Passed HNF number: ', 94)\n",
      "('Passed HNF number: ', 95)\n",
      "('Passed HNF number: ', 96)\n",
      "('Passed HNF number: ', 97)\n",
      "('Passed HNF number: ', 98)\n",
      "('Passed HNF number: ', 99)\n",
      "('Passed HNF number: ', 100)\n",
      "('Passed HNF number: ', 101)\n",
      "('Passed HNF number: ', 102)\n",
      "('Passed HNF number: ', 103)\n",
      "('Passed HNF number: ', 104)\n",
      "('Passed HNF number: ', 105)\n",
      "('Passed HNF number: ', 106)\n",
      "('Passed HNF number: ', 107)\n",
      "('Passed HNF number: ', 108)\n",
      "('Passed HNF number: ', 109)\n",
      "('Passed HNF number: ', 110)\n"
     ]
    }
   ],
   "source": [
    "HNFs = so_srHNFs(24)\n",
    "crystal_fam = 5\n",
    "for i in range(len(HNFs)):\n",
    "    H = HNFs[i]\n",
    "    S = np.dot(np.dot(N,H),np.linalg.inv(C))\n",
    "    lat_name, niggli_n, lat_fam = niggli_id(S,eps_=1E-5)\n",
    "    r = np.linalg.inv(np.transpose(U))\n",
    "    g = np.linalg.inv(np.transpose(S))\n",
    "    temp = np.round(np.dot(np.linalg.inv(g),r),3)\n",
    "    if lat_fam > crystal_fam or not np.allclose(temp%1,0):\n",
    "        print(\"FAILED on HNF number: \",i)\n",
    "    else:\n",
    "        print(\"Passed HNF number: \",i)"
   ]
  },
  {
   "cell_type": "markdown",
   "metadata": {},
   "source": [
    "### VF 10"
   ]
  },
  {
   "cell_type": "code",
   "execution_count": 8,
   "metadata": {
    "collapsed": false
   },
   "outputs": [
    {
     "name": "stdout",
     "output_type": "stream",
     "text": [
      "('Passed HNF number: ', 0)\n",
      "('Passed HNF number: ', 1)\n",
      "('Passed HNF number: ', 2)\n",
      "('Passed HNF number: ', 3)\n",
      "('Passed HNF number: ', 4)\n",
      "('Passed HNF number: ', 5)\n",
      "('Passed HNF number: ', 6)\n",
      "('Passed HNF number: ', 7)\n",
      "('Passed HNF number: ', 8)\n",
      "('Passed HNF number: ', 9)\n",
      "('Passed HNF number: ', 10)\n",
      "('Passed HNF number: ', 11)\n",
      "('Passed HNF number: ', 12)\n",
      "('Passed HNF number: ', 13)\n",
      "('Passed HNF number: ', 14)\n",
      "('Passed HNF number: ', 15)\n",
      "('Passed HNF number: ', 16)\n",
      "('Passed HNF number: ', 17)\n",
      "('Passed HNF number: ', 18)\n",
      "('Passed HNF number: ', 19)\n",
      "('Passed HNF number: ', 20)\n"
     ]
    }
   ],
   "source": [
    "HNFs = so_srHNFs(10)\n",
    "crystal_fam = 5\n",
    "for i in range(len(HNFs)):\n",
    "    H = HNFs[i]\n",
    "    S = np.dot(np.dot(N,H),np.linalg.inv(C))\n",
    "    lat_name, niggli_n, lat_fam = niggli_id(S,eps_=1E-5)\n",
    "    r = np.linalg.inv(np.transpose(U))\n",
    "    g = np.linalg.inv(np.transpose(S))\n",
    "    temp = np.round(np.dot(np.linalg.inv(g),r),3)\n",
    "    if lat_fam > crystal_fam or not np.allclose(temp%1,0):\n",
    "        print(\"FAILED on HNF number: \",i)\n",
    "    else:\n",
    "        print(\"Passed HNF number: \",i)"
   ]
  },
  {
   "cell_type": "markdown",
   "metadata": {},
   "source": [
    "## Second Basis Choice"
   ]
  },
  {
   "cell_type": "code",
   "execution_count": 9,
   "metadata": {
    "collapsed": true
   },
   "outputs": [],
   "source": [
    "U = np.random.random()*As[1]\n",
    "B = pyniggli.reduced_cell(U)\n",
    "N = B.niggli\n",
    "C = B.C"
   ]
  },
  {
   "cell_type": "markdown",
   "metadata": {},
   "source": [
    "### VF 18"
   ]
  },
  {
   "cell_type": "code",
   "execution_count": 10,
   "metadata": {
    "collapsed": false
   },
   "outputs": [
    {
     "name": "stdout",
     "output_type": "stream",
     "text": [
      "('Passed HNF number: ', 0)\n",
      "('Passed HNF number: ', 1)\n",
      "('Passed HNF number: ', 2)\n",
      "('Passed HNF number: ', 3)\n",
      "('Passed HNF number: ', 4)\n",
      "('Passed HNF number: ', 5)\n",
      "('Passed HNF number: ', 6)\n",
      "('Passed HNF number: ', 7)\n",
      "('Passed HNF number: ', 8)\n",
      "('Passed HNF number: ', 9)\n",
      "('Passed HNF number: ', 10)\n",
      "('Passed HNF number: ', 11)\n",
      "('Passed HNF number: ', 12)\n",
      "('Passed HNF number: ', 13)\n",
      "('Passed HNF number: ', 14)\n",
      "('Passed HNF number: ', 15)\n",
      "('Passed HNF number: ', 16)\n",
      "('Passed HNF number: ', 17)\n",
      "('Passed HNF number: ', 18)\n",
      "('Passed HNF number: ', 19)\n",
      "('Passed HNF number: ', 20)\n"
     ]
    }
   ],
   "source": [
    "HNFs = so_srHNFs(10)\n",
    "crystal_fam = 5\n",
    "for i in range(len(HNFs)):\n",
    "    H = HNFs[i]\n",
    "    S = np.dot(np.dot(N,H),np.linalg.inv(C))\n",
    "    lat_name, niggli_n, lat_fam = niggli_id(S,eps_=1E-5)\n",
    "    r = np.linalg.inv(np.transpose(U))\n",
    "    g = np.linalg.inv(np.transpose(S))\n",
    "    temp = np.round(np.dot(np.linalg.inv(g),r),3)\n",
    "    if lat_fam > crystal_fam or not np.allclose(temp%1,0):\n",
    "        print(\"FAILED on HNF number: \",i)\n",
    "    else:\n",
    "        print(\"Passed HNF number: \",i)"
   ]
  },
  {
   "cell_type": "markdown",
   "metadata": {},
   "source": [
    "### VF 12"
   ]
  },
  {
   "cell_type": "code",
   "execution_count": 11,
   "metadata": {
    "collapsed": false
   },
   "outputs": [
    {
     "name": "stdout",
     "output_type": "stream",
     "text": [
      "('Passed HNF number: ', 0)\n",
      "('Passed HNF number: ', 1)\n",
      "('Passed HNF number: ', 2)\n",
      "('Passed HNF number: ', 3)\n",
      "('Passed HNF number: ', 4)\n",
      "('Passed HNF number: ', 5)\n",
      "('Passed HNF number: ', 6)\n",
      "('Passed HNF number: ', 7)\n",
      "('Passed HNF number: ', 8)\n",
      "('Passed HNF number: ', 9)\n",
      "('Passed HNF number: ', 10)\n",
      "('Passed HNF number: ', 11)\n",
      "('Passed HNF number: ', 12)\n",
      "('Passed HNF number: ', 13)\n",
      "('Passed HNF number: ', 14)\n",
      "('Passed HNF number: ', 15)\n",
      "('Passed HNF number: ', 16)\n",
      "('Passed HNF number: ', 17)\n",
      "('Passed HNF number: ', 18)\n",
      "('Passed HNF number: ', 19)\n",
      "('Passed HNF number: ', 20)\n",
      "('Passed HNF number: ', 21)\n",
      "('Passed HNF number: ', 22)\n",
      "('Passed HNF number: ', 23)\n",
      "('Passed HNF number: ', 24)\n",
      "('Passed HNF number: ', 25)\n",
      "('Passed HNF number: ', 26)\n",
      "('Passed HNF number: ', 27)\n",
      "('Passed HNF number: ', 28)\n",
      "('Passed HNF number: ', 29)\n",
      "('Passed HNF number: ', 30)\n",
      "('Passed HNF number: ', 31)\n",
      "('Passed HNF number: ', 32)\n",
      "('Passed HNF number: ', 33)\n",
      "('Passed HNF number: ', 34)\n",
      "('Passed HNF number: ', 35)\n",
      "('Passed HNF number: ', 36)\n",
      "('Passed HNF number: ', 37)\n",
      "('Passed HNF number: ', 38)\n",
      "('Passed HNF number: ', 39)\n",
      "('Passed HNF number: ', 40)\n",
      "('Passed HNF number: ', 41)\n",
      "('Passed HNF number: ', 42)\n",
      "('Passed HNF number: ', 43)\n",
      "('Passed HNF number: ', 44)\n",
      "('Passed HNF number: ', 45)\n",
      "('Passed HNF number: ', 46)\n",
      "('Passed HNF number: ', 47)\n",
      "('Passed HNF number: ', 48)\n",
      "('Passed HNF number: ', 49)\n",
      "('Passed HNF number: ', 50)\n",
      "('Passed HNF number: ', 51)\n",
      "('Passed HNF number: ', 52)\n",
      "('Passed HNF number: ', 53)\n",
      "('Passed HNF number: ', 54)\n",
      "('Passed HNF number: ', 55)\n",
      "('Passed HNF number: ', 56)\n"
     ]
    }
   ],
   "source": [
    "HNFs = so_srHNFs(12)\n",
    "crystal_fam = 5\n",
    "for i in range(len(HNFs)):\n",
    "    H = HNFs[i]\n",
    "    S = np.dot(np.dot(N,H),np.linalg.inv(C))\n",
    "    lat_name, niggli_n, lat_fam = niggli_id(S,eps_=1E-5)\n",
    "    r = np.linalg.inv(np.transpose(U))\n",
    "    g = np.linalg.inv(np.transpose(S))\n",
    "    temp = np.round(np.dot(np.linalg.inv(g),r),3)\n",
    "    if lat_fam > crystal_fam or not np.allclose(temp%1,0):\n",
    "        print(\"FAILED on HNF number: \",i)\n",
    "    else:\n",
    "        print(\"Passed HNF number: \",i)"
   ]
  },
  {
   "cell_type": "markdown",
   "metadata": {},
   "source": [
    "### VF 4"
   ]
  },
  {
   "cell_type": "code",
   "execution_count": 12,
   "metadata": {
    "collapsed": false
   },
   "outputs": [
    {
     "name": "stdout",
     "output_type": "stream",
     "text": [
      "('Passed HNF number: ', 0)\n",
      "('Passed HNF number: ', 1)\n",
      "('Passed HNF number: ', 2)\n",
      "('Passed HNF number: ', 3)\n",
      "('Passed HNF number: ', 4)\n",
      "('Passed HNF number: ', 5)\n",
      "('Passed HNF number: ', 6)\n",
      "('Passed HNF number: ', 7)\n",
      "('Passed HNF number: ', 8)\n",
      "('Passed HNF number: ', 9)\n",
      "('Passed HNF number: ', 10)\n",
      "('Passed HNF number: ', 11)\n",
      "('Passed HNF number: ', 12)\n",
      "('Passed HNF number: ', 13)\n",
      "('Passed HNF number: ', 14)\n",
      "('Passed HNF number: ', 15)\n",
      "('Passed HNF number: ', 16)\n",
      "('Passed HNF number: ', 17)\n",
      "('Passed HNF number: ', 18)\n"
     ]
    }
   ],
   "source": [
    "HNFs = so_srHNFs(4)\n",
    "crystal_fam = 5\n",
    "for i in range(len(HNFs)):\n",
    "    H = HNFs[i]\n",
    "    S = np.dot(np.dot(N,H),np.linalg.inv(C))\n",
    "    lat_name, niggli_n, lat_fam = niggli_id(S,eps_=1E-5)\n",
    "    r = np.linalg.inv(np.transpose(U))\n",
    "    g = np.linalg.inv(np.transpose(S))\n",
    "    temp = np.round(np.dot(np.linalg.inv(g),r),3)\n",
    "    if lat_fam > crystal_fam or not np.allclose(temp%1,0):\n",
    "        print(\"FAILED on HNF number: \",i)\n",
    "    else:\n",
    "        print(\"Passed HNF number: \",i)"
   ]
  },
  {
   "cell_type": "markdown",
   "metadata": {},
   "source": [
    "## Third Basis Choice"
   ]
  },
  {
   "cell_type": "code",
   "execution_count": 13,
   "metadata": {
    "collapsed": true
   },
   "outputs": [],
   "source": [
    "U = np.random.random()*As[2]\n",
    "B = pyniggli.reduced_cell(U)\n",
    "N = B.niggli\n",
    "C = B.C"
   ]
  },
  {
   "cell_type": "markdown",
   "metadata": {},
   "source": [
    "### VF 12"
   ]
  },
  {
   "cell_type": "code",
   "execution_count": 14,
   "metadata": {
    "collapsed": false
   },
   "outputs": [
    {
     "name": "stdout",
     "output_type": "stream",
     "text": [
      "('Passed HNF number: ', 0)\n",
      "('Passed HNF number: ', 1)\n",
      "('Passed HNF number: ', 2)\n",
      "('Passed HNF number: ', 3)\n",
      "('Passed HNF number: ', 4)\n",
      "('Passed HNF number: ', 5)\n",
      "('Passed HNF number: ', 6)\n",
      "('Passed HNF number: ', 7)\n",
      "('Passed HNF number: ', 8)\n",
      "('Passed HNF number: ', 9)\n",
      "('Passed HNF number: ', 10)\n",
      "('Passed HNF number: ', 11)\n",
      "('Passed HNF number: ', 12)\n",
      "('Passed HNF number: ', 13)\n",
      "('Passed HNF number: ', 14)\n",
      "('Passed HNF number: ', 15)\n",
      "('Passed HNF number: ', 16)\n",
      "('Passed HNF number: ', 17)\n",
      "('Passed HNF number: ', 18)\n",
      "('Passed HNF number: ', 19)\n",
      "('Passed HNF number: ', 20)\n",
      "('Passed HNF number: ', 21)\n",
      "('Passed HNF number: ', 22)\n",
      "('Passed HNF number: ', 23)\n",
      "('Passed HNF number: ', 24)\n",
      "('Passed HNF number: ', 25)\n",
      "('Passed HNF number: ', 26)\n",
      "('Passed HNF number: ', 27)\n",
      "('Passed HNF number: ', 28)\n",
      "('Passed HNF number: ', 29)\n",
      "('Passed HNF number: ', 30)\n",
      "('Passed HNF number: ', 31)\n",
      "('Passed HNF number: ', 32)\n",
      "('Passed HNF number: ', 33)\n",
      "('Passed HNF number: ', 34)\n",
      "('Passed HNF number: ', 35)\n",
      "('Passed HNF number: ', 36)\n",
      "('Passed HNF number: ', 37)\n",
      "('Passed HNF number: ', 38)\n",
      "('Passed HNF number: ', 39)\n",
      "('Passed HNF number: ', 40)\n",
      "('Passed HNF number: ', 41)\n",
      "('Passed HNF number: ', 42)\n",
      "('Passed HNF number: ', 43)\n",
      "('Passed HNF number: ', 44)\n",
      "('Passed HNF number: ', 45)\n",
      "('Passed HNF number: ', 46)\n",
      "('Passed HNF number: ', 47)\n",
      "('Passed HNF number: ', 48)\n",
      "('Passed HNF number: ', 49)\n",
      "('Passed HNF number: ', 50)\n",
      "('Passed HNF number: ', 51)\n",
      "('Passed HNF number: ', 52)\n",
      "('Passed HNF number: ', 53)\n",
      "('Passed HNF number: ', 54)\n",
      "('Passed HNF number: ', 55)\n",
      "('Passed HNF number: ', 56)\n"
     ]
    }
   ],
   "source": [
    "HNFs = so_srHNFs(12)\n",
    "crystal_fam = 5\n",
    "for i in range(len(HNFs)):\n",
    "    H = HNFs[i]\n",
    "    S = np.dot(np.dot(N,H),np.linalg.inv(C))\n",
    "    lat_name, niggli_n, lat_fam = niggli_id(S,eps_=1E-5)\n",
    "    r = np.linalg.inv(np.transpose(U))\n",
    "    g = np.linalg.inv(np.transpose(S))\n",
    "    temp = np.round(np.dot(np.linalg.inv(g),r),3)\n",
    "    if lat_fam > crystal_fam or not np.allclose(temp%1,0):\n",
    "        print(\"FAILED on HNF number: \",i)\n",
    "    else:\n",
    "        print(\"Passed HNF number: \",i)"
   ]
  },
  {
   "cell_type": "markdown",
   "metadata": {},
   "source": [
    "### VF 8"
   ]
  },
  {
   "cell_type": "code",
   "execution_count": 15,
   "metadata": {
    "collapsed": false
   },
   "outputs": [
    {
     "name": "stdout",
     "output_type": "stream",
     "text": [
      "('Passed HNF number: ', 0)\n",
      "('Passed HNF number: ', 1)\n",
      "('Passed HNF number: ', 2)\n",
      "('Passed HNF number: ', 3)\n",
      "('Passed HNF number: ', 4)\n",
      "('Passed HNF number: ', 5)\n",
      "('Passed HNF number: ', 6)\n",
      "('Passed HNF number: ', 7)\n",
      "('Passed HNF number: ', 8)\n",
      "('Passed HNF number: ', 9)\n",
      "('Passed HNF number: ', 10)\n",
      "('Passed HNF number: ', 11)\n",
      "('Passed HNF number: ', 12)\n",
      "('Passed HNF number: ', 13)\n",
      "('Passed HNF number: ', 14)\n",
      "('Passed HNF number: ', 15)\n",
      "('Passed HNF number: ', 16)\n",
      "('Passed HNF number: ', 17)\n",
      "('Passed HNF number: ', 18)\n",
      "('Passed HNF number: ', 19)\n",
      "('Passed HNF number: ', 20)\n",
      "('Passed HNF number: ', 21)\n",
      "('Passed HNF number: ', 22)\n",
      "('Passed HNF number: ', 23)\n",
      "('Passed HNF number: ', 24)\n",
      "('Passed HNF number: ', 25)\n",
      "('Passed HNF number: ', 26)\n",
      "('Passed HNF number: ', 27)\n",
      "('Passed HNF number: ', 28)\n",
      "('Passed HNF number: ', 29)\n",
      "('Passed HNF number: ', 30)\n",
      "('Passed HNF number: ', 31)\n",
      "('Passed HNF number: ', 32)\n",
      "('Passed HNF number: ', 33)\n",
      "('Passed HNF number: ', 34)\n",
      "('Passed HNF number: ', 35)\n",
      "('Passed HNF number: ', 36)\n"
     ]
    }
   ],
   "source": [
    "HNFs = so_srHNFs(8)\n",
    "crystal_fam = 5\n",
    "for i in range(len(HNFs)):\n",
    "    H = HNFs[i]\n",
    "    S = np.dot(np.dot(N,H),np.linalg.inv(C))\n",
    "    lat_name, niggli_n, lat_fam = niggli_id(S,eps_=1E-5)\n",
    "    r = np.linalg.inv(np.transpose(U))\n",
    "    g = np.linalg.inv(np.transpose(S))\n",
    "    temp = np.round(np.dot(np.linalg.inv(g),r),3)\n",
    "    if lat_fam > crystal_fam or not np.allclose(temp%1,0):\n",
    "        print(\"FAILED on HNF number: \",i)\n",
    "    else:\n",
    "        print(\"Passed HNF number: \",i)"
   ]
  },
  {
   "cell_type": "markdown",
   "metadata": {},
   "source": [
    "### VF 14"
   ]
  },
  {
   "cell_type": "code",
   "execution_count": 16,
   "metadata": {
    "collapsed": false
   },
   "outputs": [
    {
     "name": "stdout",
     "output_type": "stream",
     "text": [
      "('Passed HNF number: ', 0)\n",
      "('Passed HNF number: ', 1)\n",
      "('Passed HNF number: ', 2)\n",
      "('Passed HNF number: ', 3)\n",
      "('Passed HNF number: ', 4)\n",
      "('Passed HNF number: ', 5)\n",
      "('Passed HNF number: ', 6)\n",
      "('Passed HNF number: ', 7)\n",
      "('Passed HNF number: ', 8)\n",
      "('Passed HNF number: ', 9)\n",
      "('Passed HNF number: ', 10)\n",
      "('Passed HNF number: ', 11)\n",
      "('Passed HNF number: ', 12)\n",
      "('Passed HNF number: ', 13)\n",
      "('Passed HNF number: ', 14)\n",
      "('Passed HNF number: ', 15)\n",
      "('Passed HNF number: ', 16)\n",
      "('Passed HNF number: ', 17)\n",
      "('Passed HNF number: ', 18)\n",
      "('Passed HNF number: ', 19)\n",
      "('Passed HNF number: ', 20)\n",
      "('Passed HNF number: ', 21)\n",
      "('Passed HNF number: ', 22)\n",
      "('Passed HNF number: ', 23)\n",
      "('Passed HNF number: ', 24)\n",
      "('Passed HNF number: ', 25)\n",
      "('Passed HNF number: ', 26)\n",
      "('Passed HNF number: ', 27)\n",
      "('Passed HNF number: ', 28)\n",
      "('Passed HNF number: ', 29)\n",
      "('Passed HNF number: ', 30)\n",
      "('Passed HNF number: ', 31)\n",
      "('Passed HNF number: ', 32)\n",
      "('Passed HNF number: ', 33)\n",
      "('Passed HNF number: ', 34)\n",
      "('Passed HNF number: ', 35)\n",
      "('Passed HNF number: ', 36)\n",
      "('Passed HNF number: ', 37)\n",
      "('Passed HNF number: ', 38)\n",
      "('Passed HNF number: ', 39)\n",
      "('Passed HNF number: ', 40)\n",
      "('Passed HNF number: ', 41)\n",
      "('Passed HNF number: ', 42)\n",
      "('Passed HNF number: ', 43)\n",
      "('Passed HNF number: ', 44)\n",
      "('Passed HNF number: ', 45)\n",
      "('Passed HNF number: ', 46)\n",
      "('Passed HNF number: ', 47)\n",
      "('Passed HNF number: ', 48)\n",
      "('Passed HNF number: ', 49)\n",
      "('Passed HNF number: ', 50)\n",
      "('Passed HNF number: ', 51)\n",
      "('Passed HNF number: ', 52)\n",
      "('Passed HNF number: ', 53)\n",
      "('Passed HNF number: ', 54)\n",
      "('Passed HNF number: ', 55)\n",
      "('Passed HNF number: ', 56)\n"
     ]
    }
   ],
   "source": [
    "HNFs = so_srHNFs(12)\n",
    "crystal_fam = 5\n",
    "for i in range(len(HNFs)):\n",
    "    H = HNFs[i]\n",
    "    S = np.dot(np.dot(N,H),np.linalg.inv(C))\n",
    "    lat_name, niggli_n, lat_fam = niggli_id(S,eps_=1E-5)\n",
    "    r = np.linalg.inv(np.transpose(U))\n",
    "    g = np.linalg.inv(np.transpose(S))\n",
    "    temp = np.round(np.dot(np.linalg.inv(g),r),3)\n",
    "    if lat_fam > crystal_fam or not np.allclose(temp%1,0):\n",
    "        print(\"FAILED on HNF number: \",i)\n",
    "    else:\n",
    "        print(\"Passed HNF number: \",i)"
   ]
  },
  {
   "cell_type": "markdown",
   "metadata": {},
   "source": [
    "# Conclusion\n",
    "\n",
    "The tests so far indicate that the transformation to the Niggli cell will work. However there are still 39 cases to check and verify in addition to a more detailed study even of these systems.\n",
    "\n",
    "What I need to do is find a way to quickly identify the lattice type, this can be accomplished via niggli faster than the current method, then verify that the supercell's retain symmetry for a larger test case.\n",
    "\n",
    "In other words I need a far more extensive testing suite that gets wrapped into a subroutine so that it will automatically generate supercells for multiple densities for a given cell and for each supercell verify that the cell has equal or greater symmetry than the parent. If ever this isn't the case then we'll need to have it stop and report the error, i.e., let us know that the method doesn't actually work."
   ]
  },
  {
   "cell_type": "code",
   "execution_count": null,
   "metadata": {
    "collapsed": true
   },
   "outputs": [],
   "source": []
  }
 ],
 "metadata": {
  "kernelspec": {
   "display_name": "Python 2",
   "language": "python",
   "name": "python2"
  },
  "language_info": {
   "codemirror_mode": {
    "name": "ipython",
    "version": 2
   },
   "file_extension": ".py",
   "mimetype": "text/x-python",
   "name": "python",
   "nbconvert_exporter": "python",
   "pygments_lexer": "ipython2",
   "version": "2.7.9"
  }
 },
 "nbformat": 4,
 "nbformat_minor": 2
}
