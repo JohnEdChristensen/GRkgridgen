{
 "cells": [
  {
   "cell_type": "code",
   "execution_count": 3,
   "metadata": {
    "collapsed": false,
    "deletable": true,
    "editable": true
   },
   "outputs": [],
   "source": [
    "import numpy as np\n",
    "import pyniggli\n",
    "from opf_python.lat_type import lat_type\n",
    "from opf_python.niggli_lat_id import niggli_id\n",
    "from opf_python.test_basis import test_cell"
   ]
  },
  {
   "cell_type": "code",
   "execution_count": 7,
   "metadata": {
    "collapsed": true,
    "deletable": true,
    "editable": true
   },
   "outputs": [],
   "source": [
    "def niggli_setting(A):\n",
    "    \"\"\"Finds the corrdinates in G6 for the lattice A. Where G6 is\n",
    "    [A[:,0].A[:,0],A[:,1].A[:,1],A[:,2].A[:,2],\n",
    "    2*A[:,1].A[:,2],2*A[:,2].A[:,0],2*A[:,0].A[:,1]]\n",
    "    \n",
    "    Args:\n",
    "        A (numpy array): The lattice vectors as columns of a matrix.\n",
    "        \n",
    "    Returns:\n",
    "        G (list): The coordinates on G6 space.\n",
    "    \"\"\"\n",
    "    \n",
    "    a = A[:,0]\n",
    "    b = A[:,1]\n",
    "    c = A[:,2]\n",
    "    A = np.dot(a,a)\n",
    "    B = np.dot(b,b)\n",
    "    C = np.dot(c,c)\n",
    "    xi = np.dot(b,c)\n",
    "    eta = np.dot(a,c)\n",
    "    zeta = np.dot(a,b)\n",
    "    \n",
    "    G = [A,B,C,xi,eta,zeta]\n",
    "    return G"
   ]
  },
  {
   "cell_type": "markdown",
   "metadata": {
    "deletable": true,
    "editable": true
   },
   "source": [
    "# The Idea\n",
    "\n",
    "The idea here is to try and see if we can figure out a method to transform the symmetry preserving supercell from our basis to the users basis by using the niggli reduced cell. The workflow would be as follows:\n",
    "\n",
    "1) identify which of the 44 niggli cells is in use (there are two triclinic cells included in those 44 which we'll disregard)\n",
    "\n",
    "2) Find the Supercell in the niggli basis\n",
    "\n",
    "3) Transform back to the users basis.\n",
    "\n",
    "UC = N\n",
    "\n",
    "S = NHCinv\n",
    "\n",
    "# Face centered cubic\n",
    "\n",
    "## First basis\n",
    "\n",
    "Face centered cubic makes a good test case for the cubic cells, all cubic cells have a single unique niggli cell."
   ]
  },
  {
   "cell_type": "code",
   "execution_count": 4,
   "metadata": {
    "collapsed": false,
    "deletable": true,
    "editable": true
   },
   "outputs": [],
   "source": [
    "U = np.transpose([[0.5,0,0.5],[0.5,0.5,0],[0,0,1]])\n",
    "B = pyniggli.reduced_cell(U)\n",
    "N = B.niggli\n",
    "C = B.C"
   ]
  },
  {
   "cell_type": "markdown",
   "metadata": {
    "deletable": true,
    "editable": true
   },
   "source": [
    "Using the brute force method I've now confirmed that this niggli cell has the same symmetry preserving HNFs as our original basis choice."
   ]
  },
  {
   "cell_type": "code",
   "execution_count": 5,
   "metadata": {
    "collapsed": false,
    "deletable": true,
    "editable": true
   },
   "outputs": [
    {
     "name": "stdout",
     "output_type": "stream",
     "text": [
      "('Users niggli number: ', 1)\n"
     ]
    },
    {
     "data": {
      "text/plain": [
       "True"
      ]
     },
     "execution_count": 5,
     "metadata": {},
     "output_type": "execute_result"
    }
   ],
   "source": [
    "test_cell(U)"
   ]
  },
  {
   "cell_type": "markdown",
   "metadata": {
    "deletable": true,
    "editable": true
   },
   "source": [
    "## Second FCC basis\n",
    "\n",
    "Let's do a second basis just to be sure."
   ]
  },
  {
   "cell_type": "code",
   "execution_count": 6,
   "metadata": {
    "collapsed": true,
    "deletable": true,
    "editable": true
   },
   "outputs": [],
   "source": [
    "U = np.transpose([[1,1,2],[1,0,1],[2,1,1]])"
   ]
  },
  {
   "cell_type": "code",
   "execution_count": 7,
   "metadata": {
    "collapsed": false,
    "deletable": true,
    "editable": true
   },
   "outputs": [
    {
     "name": "stdout",
     "output_type": "stream",
     "text": [
      "('Users niggli number: ', 1)\n"
     ]
    },
    {
     "data": {
      "text/plain": [
       "True"
      ]
     },
     "execution_count": 7,
     "metadata": {},
     "output_type": "execute_result"
    }
   ],
   "source": [
    "test_cell(U)"
   ]
  },
  {
   "cell_type": "markdown",
   "metadata": {
    "deletable": true,
    "editable": true
   },
   "source": [
    "## FCC rotated basis (10 degrees about the z-axis)"
   ]
  },
  {
   "cell_type": "code",
   "execution_count": 8,
   "metadata": {
    "collapsed": true,
    "deletable": true,
    "editable": true
   },
   "outputs": [],
   "source": [
    "R = [[np.cos(10.*np.pi/180.),-np.sin(10.*np.pi/180.),0],\n",
    "     [np.sin(10.*np.pi/180.),np.cos(10.*np.pi/180.),0],\n",
    "    [0,0,1]]\n",
    "U = np.dot(R,U)"
   ]
  },
  {
   "cell_type": "code",
   "execution_count": 9,
   "metadata": {
    "collapsed": false,
    "deletable": true,
    "editable": true
   },
   "outputs": [
    {
     "name": "stdout",
     "output_type": "stream",
     "text": [
      "('Users niggli number: ', 1)\n"
     ]
    },
    {
     "data": {
      "text/plain": [
       "True"
      ]
     },
     "execution_count": 9,
     "metadata": {},
     "output_type": "execute_result"
    }
   ],
   "source": [
    "test_cell(U)"
   ]
  },
  {
   "cell_type": "markdown",
   "metadata": {},
   "source": [
    "# Simple Cubic"
   ]
  },
  {
   "cell_type": "code",
   "execution_count": 10,
   "metadata": {
    "collapsed": true
   },
   "outputs": [],
   "source": [
    "As = [[[1,0,0],[0,1,0],[0,0,1]], [[1,0,0],[1,1,0],[0,0,1]],\n",
    "        [[1,0,1],[1,1,0],[0,0,1]],[[1,1,1],[0,1,1],[1,0,1]],[[1,0,2],[0,1,0],[0,1,1]]]\n",
    "As = [np.transpose(i) for i in As]"
   ]
  },
  {
   "cell_type": "code",
   "execution_count": 11,
   "metadata": {
    "collapsed": false
   },
   "outputs": [
    {
     "name": "stdout",
     "output_type": "stream",
     "text": [
      "('Users niggli number: ', 3)\n",
      "(array([[1, 0, 0],\n",
      "       [0, 1, 0],\n",
      "       [0, 0, 1]]), True)\n",
      "('Users niggli number: ', 3)\n",
      "(array([[1, 1, 0],\n",
      "       [0, 1, 0],\n",
      "       [0, 0, 1]]), True)\n",
      "('Users niggli number: ', 3)\n",
      "(array([[1, 1, 0],\n",
      "       [0, 1, 0],\n",
      "       [1, 0, 1]]), True)\n",
      "('Users niggli number: ', 3)\n",
      "(array([[1, 0, 1],\n",
      "       [1, 1, 0],\n",
      "       [1, 1, 1]]), True)\n",
      "('Users niggli number: ', 3)\n",
      "(array([[1, 0, 0],\n",
      "       [0, 1, 1],\n",
      "       [2, 0, 1]]), True)\n"
     ]
    }
   ],
   "source": [
    "for U in As:\n",
    "    print(U,test_cell(U))"
   ]
  },
  {
   "cell_type": "markdown",
   "metadata": {},
   "source": [
    "# Body Centered Cubic"
   ]
  },
  {
   "cell_type": "code",
   "execution_count": 12,
   "metadata": {
    "collapsed": true
   },
   "outputs": [],
   "source": [
    "As = [[[-1,1,1],[1,-1,1],[1,1,-1]],[[1,0,0],[0,1,0],[0.5,0.5,0.5]],\n",
    "        [[1,0,0],[0.5,0.5,0.5],[0,0,1]],[[0.5,-0.5,0.5],[0,1,0],[0,0,1]],\n",
    "        [[0,0,2],[1,-1,1],[1,1,-1]],[[-1,1,1],[2,0,0],[0,2,0]],\n",
    "        [[1,-1,3],[1,-1,1],[1,1,-1]]]\n",
    "As = [np.transpose(i) for i in As]"
   ]
  },
  {
   "cell_type": "code",
   "execution_count": 14,
   "metadata": {
    "collapsed": false
   },
   "outputs": [
    {
     "name": "stdout",
     "output_type": "stream",
     "text": [
      "('Users niggli number: ', 5)\n",
      "True\n",
      "('Users niggli number: ', 5)\n",
      "True\n",
      "('Users niggli number: ', 5)\n",
      "True\n",
      "('Users niggli number: ', 5)\n",
      "True\n",
      "('Users niggli number: ', 5)\n",
      "True\n",
      "('Users niggli number: ', 5)\n",
      "True\n",
      "('Users niggli number: ', 5)\n",
      "True\n"
     ]
    }
   ],
   "source": [
    "for U in As:\n",
    "    print(test_cell(U))"
   ]
  },
  {
   "cell_type": "markdown",
   "metadata": {
    "deletable": true,
    "editable": true
   },
   "source": [
    "# Simple Tetragonal\n",
    "\n",
    "Now we should check a second crystal choice. Simple tetragonal cell's are another where we already have the symmetry preserving HNFs for one of the two niggli cells. We'll have to restrict ourselves to the niggli setting with lattice norms of [A,A,C] where C > A for these tests. The following 4 lattices satisfy that condition."
   ]
  },
  {
   "cell_type": "code",
   "execution_count": 16,
   "metadata": {
    "collapsed": true,
    "deletable": true,
    "editable": true
   },
   "outputs": [],
   "source": [
    "a1 = np.array([1,0,0])\n",
    "a2 = np.array([0,1,0])\n",
    "a3 = np.array([0,0,2])\n",
    "\n",
    "As = [[a1+a2,a2,a3+a1],[a1+a2+a3,a2+a3,a1+a2],[a1,a2+a1,a3+a3],[-a1,-a2+a3,a3]]\n",
    "As = [np.transpose(i) for i in As]"
   ]
  },
  {
   "cell_type": "code",
   "execution_count": 17,
   "metadata": {
    "collapsed": false,
    "deletable": true,
    "editable": true
   },
   "outputs": [
    {
     "name": "stdout",
     "output_type": "stream",
     "text": [
      "('Users niggli number: ', 11)\n",
      "True\n",
      "('Users niggli number: ', 11)\n",
      "True\n",
      "('Users niggli number: ', 11)\n",
      "True\n",
      "('Users niggli number: ', 11)\n",
      "True\n"
     ]
    }
   ],
   "source": [
    "for U in As:\n",
    "    print(test_cell(U))"
   ]
  },
  {
   "cell_type": "markdown",
   "metadata": {
    "deletable": true,
    "editable": true
   },
   "source": [
    "## Third Basis Choice (rotated by 15 degrees)"
   ]
  },
  {
   "cell_type": "code",
   "execution_count": 18,
   "metadata": {
    "collapsed": false,
    "deletable": true,
    "editable": true
   },
   "outputs": [],
   "source": [
    "R = [[np.cos(15.*np.pi/180.),-np.sin(15.*np.pi/180.),0],\n",
    "     [np.sin(15.*np.pi/180.),np.cos(15.*np.pi/180.),0],\n",
    "    [0,0,1]]\n",
    "U = np.random.random()*np.transpose(As[2])\n",
    "U = np.dot(R,U)"
   ]
  },
  {
   "cell_type": "code",
   "execution_count": 19,
   "metadata": {
    "collapsed": false,
    "deletable": true,
    "editable": true
   },
   "outputs": [
    {
     "name": "stdout",
     "output_type": "stream",
     "text": [
      "('Users niggli number: ', 11)\n"
     ]
    },
    {
     "data": {
      "text/plain": [
       "True"
      ]
     },
     "execution_count": 19,
     "metadata": {},
     "output_type": "execute_result"
    }
   ],
   "source": [
    "test_cell(U)"
   ]
  },
  {
   "cell_type": "markdown",
   "metadata": {
    "deletable": true,
    "editable": true
   },
   "source": [
    "## Fourth Basis Choice (rotated by 27 degrees)"
   ]
  },
  {
   "cell_type": "code",
   "execution_count": 23,
   "metadata": {
    "collapsed": true,
    "deletable": true,
    "editable": true
   },
   "outputs": [],
   "source": [
    "R = [[np.cos(27.*np.pi/180.),-np.sin(27.*np.pi/180.),0],\n",
    "     [np.sin(27.*np.pi/180.),np.cos(27.*np.pi/180.),0],\n",
    "    [0,0,1]]\n",
    "U = np.random.random()*np.transpose(As[3])\n",
    "U = np.dot(R,U)"
   ]
  },
  {
   "cell_type": "code",
   "execution_count": 24,
   "metadata": {
    "collapsed": false,
    "deletable": true,
    "editable": true
   },
   "outputs": [
    {
     "name": "stdout",
     "output_type": "stream",
     "text": [
      "('Users niggli number: ', 11)\n"
     ]
    },
    {
     "data": {
      "text/plain": [
       "True"
      ]
     },
     "execution_count": 24,
     "metadata": {},
     "output_type": "execute_result"
    }
   ],
   "source": [
    "test_cell(U)"
   ]
  },
  {
   "cell_type": "markdown",
   "metadata": {
    "deletable": true,
    "editable": true
   },
   "source": [
    "# Simple Orthorhombic"
   ]
  },
  {
   "cell_type": "code",
   "execution_count": 3,
   "metadata": {
    "collapsed": false,
    "deletable": true,
    "editable": true
   },
   "outputs": [],
   "source": [
    "As = [[[1.00000000, 0.00000000, 0.00000000],\n",
    "       [0.00000000, 1.73205080, 0.00000000],\n",
    "       [0.00000000, 0.00000000, 3.26598640]],\n",
    "      [[0.50000000, 0.50000000, 0.00000000],\n",
    "      [0.00000000, 0.00000000, 1.00000000],\n",
    "      [1.50000000, -1.50000000, 0.00000000]],\n",
    "      [[0.50000000, 0.50000000, 0.00000000],\n",
    "      [0.00000000, 0.00000000, 1.00000000],\n",
    "      [2.00000000, -2.00000000, 0.00000000]]]\n",
    "As = [np.transpose(i) for i in As]"
   ]
  },
  {
   "cell_type": "code",
   "execution_count": 4,
   "metadata": {
    "collapsed": false,
    "deletable": true,
    "editable": true
   },
   "outputs": [
    {
     "name": "stdout",
     "output_type": "stream",
     "text": [
      "('Users niggli number: ', 32)\n",
      "True\n",
      "('Users niggli number: ', 32)\n",
      "True\n",
      "('Users niggli number: ', 32)\n",
      "True\n"
     ]
    }
   ],
   "source": [
    "for U in As:\n",
    "    print(test_cell(U,eps=1E-8))"
   ]
  },
  {
   "cell_type": "markdown",
   "metadata": {
    "deletable": true,
    "editable": true
   },
   "source": [
    "# Conclusion\n",
    "\n",
    "The tests so far indicate that the transformation to the Niggli cell will work. However there are still 39 cases to check and verify in addition to a more detailed study even of these systems.\n",
    "\n",
    "What I need to do is find a way to quickly identify the lattice type, this can be accomplished via niggli faster than the current method, then verify that the supercell's retain symmetry for a larger test case.\n",
    "\n",
    "In other words I need a far more extensive testing suite that gets wrapped into a subroutine so that it will automatically generate supercells for multiple densities for a given cell and for each supercell verify that the cell has equal or greater symmetry than the parent. If ever this isn't the case then we'll need to have it stop and report the error, i.e., let us know that the method doesn't actually work."
   ]
  },
  {
   "cell_type": "code",
   "execution_count": 1,
   "metadata": {
    "collapsed": true
   },
   "outputs": [],
   "source": [
    "from opf_python.niggli_lat_id import niggli_id\n",
    "import numpy as np"
   ]
  },
  {
   "cell_type": "code",
   "execution_count": 4,
   "metadata": {
    "collapsed": false
   },
   "outputs": [
    {
     "name": "stdout",
     "output_type": "stream",
     "text": [
      "('niggli', array([[ 0.,  1.,  2.],\n",
      "       [-1., -1.,  1.],\n",
      "       [ 1.,  0.,  2.]]))\n"
     ]
    },
    {
     "data": {
      "text/plain": [
       "('rhombohedral', 9, 3)"
      ]
     },
     "execution_count": 4,
     "metadata": {},
     "output_type": "execute_result"
    }
   ],
   "source": [
    "A = np.transpose([[1,2,2],[2,1,2],[2,2,1]])\n",
    "niggli_id(A)"
   ]
  },
  {
   "cell_type": "code",
   "execution_count": 8,
   "metadata": {
    "collapsed": false
   },
   "outputs": [
    {
     "data": {
      "text/plain": [
       "[2.0, 2.0, 9.0, 1.0, 1.0, 1.0]"
      ]
     },
     "execution_count": 8,
     "metadata": {},
     "output_type": "execute_result"
    }
   ],
   "source": [
    "B = pyniggli.reduced_cell(A)\n",
    "niggli_setting(B.niggli)"
   ]
  },
  {
   "cell_type": "code",
   "execution_count": 15,
   "metadata": {
    "collapsed": false
   },
   "outputs": [
    {
     "data": {
      "text/plain": [
       "[5.0, 5.0, 11.0, 1.0, 1.0, 2.0]"
      ]
     },
     "execution_count": 15,
     "metadata": {},
     "output_type": "execute_result"
    }
   ],
   "source": [
    "temp = pyniggli.reduced_cell(np.dot([[1,0,0],[-1,1,0],[-1,-1,3]],B.niggli))\n",
    "niggli_setting(temp.niggli)"
   ]
  },
  {
   "cell_type": "code",
   "execution_count": 28,
   "metadata": {
    "collapsed": false
   },
   "outputs": [
    {
     "name": "stdout",
     "output_type": "stream",
     "text": [
      "('niggli', array([[-1.      ,  1.51184 , -0.255922],\n",
      "       [ 0.      ,  0.      , -1.44338 ],\n",
      "       [-1.      , -0.845178,  0.92259 ]]))\n"
     ]
    },
    {
     "data": {
      "text/plain": [
       "('rhombohedral', 24, 3)"
      ]
     },
     "execution_count": 28,
     "metadata": {},
     "output_type": "execute_result"
    }
   ],
   "source": [
    "A = np.transpose([[-1.00000000, 0.00000000,-1.00000000],\n",
    "                  [1.51184,0,-0.845178],\n",
    "                  [-0.255922,-1.44338,0.92259]])\n",
    "niggli_id(A)"
   ]
  },
  {
   "cell_type": "code",
   "execution_count": 26,
   "metadata": {
    "collapsed": false
   },
   "outputs": [
    {
     "data": {
      "text/plain": [
       "[2.0,\n",
       " 2.9999860372840002,\n",
       " 2.9999926302250004,\n",
       " -1.83332939414,\n",
       " -0.66666499999999995,\n",
       " -0.66666200000000009]"
      ]
     },
     "execution_count": 26,
     "metadata": {},
     "output_type": "execute_result"
    }
   ],
   "source": [
    "temp = niggli_setting(A)\n",
    "temp"
   ]
  },
  {
   "cell_type": "code",
   "execution_count": 27,
   "metadata": {
    "collapsed": false
   },
   "outputs": [
    {
     "data": {
      "text/plain": [
       "6.3333127882799998"
      ]
     },
     "execution_count": 27,
     "metadata": {},
     "output_type": "execute_result"
    }
   ],
   "source": [
    "2*abs(temp[3]+temp[4]+temp[5])"
   ]
  },
  {
   "cell_type": "code",
   "execution_count": 1,
   "metadata": {
    "collapsed": false
   },
   "outputs": [],
   "source": [
    "from opf_python.trig import rhom_2"
   ]
  },
  {
   "cell_type": "code",
   "execution_count": 2,
   "metadata": {
    "collapsed": false
   },
   "outputs": [
    {
     "data": {
      "text/plain": [
       "867"
      ]
     },
     "execution_count": 2,
     "metadata": {},
     "output_type": "execute_result"
    }
   ],
   "source": [
    "count = 0\n",
    "for i in range(501):\n",
    "    count += len(rhom_2(i))\n",
    "count"
   ]
  },
  {
   "cell_type": "code",
   "execution_count": 3,
   "metadata": {
    "collapsed": true
   },
   "outputs": [],
   "source": [
    "import time"
   ]
  },
  {
   "cell_type": "code",
   "execution_count": 4,
   "metadata": {
    "collapsed": false
   },
   "outputs": [
    {
     "name": "stdout",
     "output_type": "stream",
     "text": [
      "10.1472918987\n"
     ]
    }
   ],
   "source": [
    "start = time.time()\n",
    "rhom_2(100000)\n",
    "end = time.time()\n",
    "print(end-start)"
   ]
  },
  {
   "cell_type": "code",
   "execution_count": 16,
   "metadata": {
    "collapsed": false
   },
   "outputs": [
    {
     "data": {
      "text/plain": [
       "53842"
      ]
     },
     "execution_count": 16,
     "metadata": {},
     "output_type": "execute_result"
    }
   ],
   "source": [
    "from opf_python.trig import rhom_9\n",
    "count = 0\n",
    "for i in range(201):\n",
    "    count += len(rhom_9(i))\n",
    "count"
   ]
  },
  {
   "cell_type": "code",
   "execution_count": 29,
   "metadata": {
    "collapsed": false
   },
   "outputs": [
    {
     "ename": "KeyboardInterrupt",
     "evalue": "",
     "output_type": "error",
     "traceback": [
      "\u001b[0;31m---------------------------------------------------------------------------\u001b[0m",
      "\u001b[0;31mKeyboardInterrupt\u001b[0m                         Traceback (most recent call last)",
      "\u001b[0;32m<ipython-input-29-197ec88c82ff>\u001b[0m in \u001b[0;36m<module>\u001b[0;34m()\u001b[0m\n\u001b[1;32m      1\u001b[0m \u001b[0;32mimport\u001b[0m \u001b[0mtime\u001b[0m\u001b[0;34m\u001b[0m\u001b[0m\n\u001b[1;32m      2\u001b[0m \u001b[0mstart\u001b[0m \u001b[0;34m=\u001b[0m \u001b[0mtime\u001b[0m\u001b[0;34m.\u001b[0m\u001b[0mtime\u001b[0m\u001b[0;34m(\u001b[0m\u001b[0;34m)\u001b[0m\u001b[0;34m\u001b[0m\u001b[0m\n\u001b[0;32m----> 3\u001b[0;31m \u001b[0mrhom_9\u001b[0m\u001b[0;34m(\u001b[0m\u001b[0;36m100000\u001b[0m\u001b[0;34m)\u001b[0m\u001b[0;34m\u001b[0m\u001b[0m\n\u001b[0m\u001b[1;32m      4\u001b[0m \u001b[0mend\u001b[0m \u001b[0;34m=\u001b[0m \u001b[0mtime\u001b[0m\u001b[0;34m.\u001b[0m\u001b[0mtime\u001b[0m\u001b[0;34m(\u001b[0m\u001b[0;34m)\u001b[0m\u001b[0;34m\u001b[0m\u001b[0m\n\u001b[1;32m      5\u001b[0m \u001b[0;32mprint\u001b[0m\u001b[0;34m(\u001b[0m\u001b[0mend\u001b[0m\u001b[0;34m-\u001b[0m\u001b[0mstart\u001b[0m\u001b[0;34m)\u001b[0m\u001b[0;34m\u001b[0m\u001b[0m\n",
      "\u001b[0;32m/Users/wileymorgan/codes/opf_kgrids/src/opf_python/trig.py\u001b[0m in \u001b[0;36mrhom_9\u001b[0;34m(n)\u001b[0m\n\u001b[1;32m    142\u001b[0m                                 \u001b[0mg12\u001b[0m \u001b[0;34m=\u001b[0m \u001b[0;34m-\u001b[0m\u001b[0ma\u001b[0m\u001b[0;34m+\u001b[0m\u001b[0md\u001b[0m\u001b[0;34m*\u001b[0m\u001b[0md\u001b[0m\u001b[0;34m/\u001b[0m\u001b[0mfloat\u001b[0m\u001b[0;34m(\u001b[0m\u001b[0ma\u001b[0m\u001b[0;34m)\u001b[0m\u001b[0;34m-\u001b[0m\u001b[0mb12\u001b[0m\u001b[0;34m*\u001b[0m\u001b[0me\u001b[0m\u001b[0;34m/\u001b[0m\u001b[0mfloat\u001b[0m\u001b[0;34m(\u001b[0m\u001b[0mc\u001b[0m\u001b[0;34m)\u001b[0m\u001b[0;34m\u001b[0m\u001b[0m\n\u001b[1;32m    143\u001b[0m                                 \u001b[0mg22\u001b[0m \u001b[0;34m=\u001b[0m \u001b[0me\u001b[0m\u001b[0;34m+\u001b[0m\u001b[0md\u001b[0m\u001b[0;34m*\u001b[0m\u001b[0me\u001b[0m\u001b[0;34m/\u001b[0m\u001b[0mfloat\u001b[0m\u001b[0;34m(\u001b[0m\u001b[0ma\u001b[0m\u001b[0;34m)\u001b[0m\u001b[0;34m-\u001b[0m\u001b[0mb22\u001b[0m\u001b[0;34m*\u001b[0m\u001b[0me\u001b[0m\u001b[0;34m/\u001b[0m\u001b[0mfloat\u001b[0m\u001b[0;34m(\u001b[0m\u001b[0mc\u001b[0m\u001b[0;34m)\u001b[0m\u001b[0;34m\u001b[0m\u001b[0m\n\u001b[0;32m--> 144\u001b[0;31m                                 \u001b[0;32mif\u001b[0m \u001b[0mb12\u001b[0m\u001b[0;34m%\u001b[0m\u001b[0mc\u001b[0m\u001b[0;34m==\u001b[0m\u001b[0;36m0\u001b[0m \u001b[0;32mand\u001b[0m \u001b[0mg12\u001b[0m\u001b[0;34m%\u001b[0m\u001b[0mf\u001b[0m\u001b[0;34m==\u001b[0m\u001b[0;36m0\u001b[0m \u001b[0;32mand\u001b[0m \u001b[0mg22\u001b[0m\u001b[0;34m%\u001b[0m\u001b[0mf\u001b[0m\u001b[0;34m==\u001b[0m\u001b[0;36m0\u001b[0m\u001b[0;34m:\u001b[0m\u001b[0;34m\u001b[0m\u001b[0m\n\u001b[0m\u001b[1;32m    145\u001b[0m                                     \u001b[0mHNF\u001b[0m \u001b[0;34m=\u001b[0m \u001b[0;34m[\u001b[0m\u001b[0;34m[\u001b[0m\u001b[0ma\u001b[0m\u001b[0;34m,\u001b[0m\u001b[0;36m0\u001b[0m\u001b[0;34m,\u001b[0m\u001b[0;36m0\u001b[0m\u001b[0;34m]\u001b[0m\u001b[0;34m,\u001b[0m\u001b[0;34m[\u001b[0m\u001b[0mb\u001b[0m\u001b[0;34m,\u001b[0m\u001b[0mc\u001b[0m\u001b[0;34m,\u001b[0m\u001b[0;36m0\u001b[0m\u001b[0;34m]\u001b[0m\u001b[0;34m,\u001b[0m\u001b[0;34m[\u001b[0m\u001b[0md\u001b[0m\u001b[0;34m,\u001b[0m\u001b[0me\u001b[0m\u001b[0;34m,\u001b[0m\u001b[0mf\u001b[0m\u001b[0;34m]\u001b[0m\u001b[0;34m]\u001b[0m\u001b[0;34m\u001b[0m\u001b[0m\n\u001b[1;32m    146\u001b[0m                                     \u001b[0mspHNFs\u001b[0m\u001b[0;34m.\u001b[0m\u001b[0mappend\u001b[0m\u001b[0;34m(\u001b[0m\u001b[0mHNF\u001b[0m\u001b[0;34m)\u001b[0m\u001b[0;34m\u001b[0m\u001b[0m\n",
      "\u001b[0;31mKeyboardInterrupt\u001b[0m: "
     ]
    }
   ],
   "source": [
    "import time\n",
    "start = time.time()\n",
    "rhom_9(100000)\n",
    "end = time.time()\n",
    "print(end-start)"
   ]
  },
  {
   "cell_type": "code",
   "execution_count": 3,
   "metadata": {
    "collapsed": false
   },
   "outputs": [
    {
     "name": "stdout",
     "output_type": "stream",
     "text": [
      "0\n",
      "100\n",
      "200\n",
      "300\n",
      "400\n",
      "500\n"
     ]
    },
    {
     "data": {
      "text/plain": [
       "111"
      ]
     },
     "execution_count": 3,
     "metadata": {},
     "output_type": "execute_result"
    }
   ],
   "source": [
    "from opf_python.trig import rhom_24\n",
    "count = 0\n",
    "for i in range(501):\n",
    "    if i%100==0:\n",
    "        print(i)\n",
    "    count += len(rhom_24(i))\n",
    "count"
   ]
  },
  {
   "cell_type": "code",
   "execution_count": null,
   "metadata": {
    "collapsed": true
   },
   "outputs": [],
   "source": []
  }
 ],
 "metadata": {
  "kernelspec": {
   "display_name": "Python 2",
   "language": "python",
   "name": "python2"
  },
  "language_info": {
   "codemirror_mode": {
    "name": "ipython",
    "version": 2
   },
   "file_extension": ".py",
   "mimetype": "text/x-python",
   "name": "python",
   "nbconvert_exporter": "python",
   "pygments_lexer": "ipython2",
   "version": "2.7.9"
  }
 },
 "nbformat": 4,
 "nbformat_minor": 2
}
