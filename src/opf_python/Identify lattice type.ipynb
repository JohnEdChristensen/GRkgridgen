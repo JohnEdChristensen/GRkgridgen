{
 "cells": [
  {
   "cell_type": "markdown",
   "metadata": {
    "deletable": true,
    "editable": true
   },
   "source": [
    "We need to be able to identify the lattice type of any lattice. This is most easily done by reducing the lattice then 'looking' at the relative size of the vectors and the angles between them."
   ]
  },
  {
   "cell_type": "code",
   "execution_count": 1,
   "metadata": {
    "collapsed": true,
    "deletable": true,
    "editable": true
   },
   "outputs": [],
   "source": [
    "import numpy as np"
   ]
  },
  {
   "cell_type": "code",
   "execution_count": 21,
   "metadata": {
    "collapsed": false,
    "deletable": true,
    "editable": true
   },
   "outputs": [],
   "source": [
    "def lat_type(lat):\n",
    "    \"\"\"Finds the lattice type for the provided lattice vectors.\n",
    "    \n",
    "    Args:\n",
    "        lat (numpy.array): the lattice vectors as columns of the matrix.\n",
    "        \n",
    "    Returns:\n",
    "        latType (str): the type of lattice, i.e., sc, bcc, fcc, st, so....\n",
    "        latBasis (numpy.array): The canonical basis for this lattice.\n",
    "    \"\"\"\n",
    "    \n",
    "    from phenum.vector_utils import _minkowski_reduce_basis\n",
    "    from phenum.symmetry import _get_lattice_pointGroup\n",
    "    \n",
    "    clat = np.array(_minkowski_reduce_basis(lat,1E-10))\n",
    "    #clat = lat\n",
    "    print(clat)\n",
    "    latType = None\n",
    "    \n",
    "    a1 = clat[0]\n",
    "    a2 = clat[1]\n",
    "    a3 = clat[2]\n",
    "    \n",
    "    a1n = np.sqrt(np.dot(a1,a1))\n",
    "    a2n = np.sqrt(np.dot(a2,a2))\n",
    "    a3n = np.sqrt(np.dot(a3,a3))\n",
    "    a1ta2 = np.dot(a1,a2)/abs(float(a1n*a2n))\n",
    "    a1ta3 = np.dot(a1,a3)/abs(float(a1n*a3n))\n",
    "    a2ta3 = np.dot(a2,a3)/abs(float(a2n*a3n))\n",
    "    \n",
    "    tiny = 1E-6\n",
    "    \n",
    "    p_count = 0\n",
    "    if abs(a1ta2)<tiny:\n",
    "        p_count += 1\n",
    "    if abs(a1ta3)<tiny:\n",
    "        p_count += 1\n",
    "    if abs(a2ta3)<tiny:\n",
    "        p_count += 1\n",
    "    \n",
    "    ## find pg to determine crystial family\n",
    "    ## once family is found go through possible lattice system\n",
    "    fam = len(_get_lattice_pointGroup(clat))\n",
    "    if fam == 48: #cubic\n",
    "        if p_count==3:\n",
    "            print('sc')\n",
    "            latType = 'sc'\n",
    "        elif abs(a1ta2 +1./3.) <tiny or abs(a1ta3+1./3.)<tiny or abs(a2ta3+1./3.)<tiny:\n",
    "            print('bcc')\n",
    "            latType = 'bcc'\n",
    "        elif abs(a1ta2-1./2.)<tiny or abs(a1ta3-1./2.)<tiny or abs(a2ta3-1./2.)<tiny:\n",
    "            print('fcc')\n",
    "            latType = 'fcc'\n",
    "        else:\n",
    "            print(\"Could not identify lattice (cubic).\")\n",
    "    elif fam == 24: #hex\n",
    "        print(\"hex\")\n",
    "        latType = 'hex'\n",
    "    elif fam == 12: #trig\n",
    "        print(\"trig\")\n",
    "        latType = 'trig'\n",
    "    elif fam == 16: #tet\n",
    "        print(\"p count: \",p_count)\n",
    "        if p_count==3:\n",
    "            print('stet')\n",
    "            latType = 'stet'\n",
    "        else:\n",
    "            print(\"btet\")\n",
    "            latTyp = 'btet'\n",
    "    elif fam == 8: #ortho\n",
    "        if p_count == 3:\n",
    "            print(\"so\")\n",
    "            latType = 'so'\n",
    "        elif p_count == 2:\n",
    "            if ((abs(abs(a1ta2)-0.5)<tiny and abs(a1n-a2n)<tiny) or \n",
    "            (abs(abs(a1ta3)-0.5)<tiny and abs(a1n-a3n)<tiny)or \n",
    "            (abs(abs(a2ta3)-0.5)<tiny and abs(a2n-a3n)<tiny)):\n",
    "                print('hex')\n",
    "                latType = 'hex'\n",
    "            else:\n",
    "                print(\"co\")\n",
    "                latType = 'co'\n",
    "        elif (p_count == 1 ):\n",
    "            if abs(a1ta2)<tiny:\n",
    "                pa3ta1n = np.linalg.norm(np.dot(a3,a1)/np.dot(a1,a1))\n",
    "                pa3ta2n = np.linalg.norm(np.dot(a3,a2)/np.dot(a2,a2))\n",
    "                if (pa3ta1n-a1n/2.)<tiny and (pa3ta2n -a2n/2.)<tiny:\n",
    "                    print('bo')\n",
    "                    latType = 'bo'\n",
    "                else:\n",
    "                    print('fo')\n",
    "                    latType = 'fo'\n",
    "            elif abs(a1ta3)<tiny:\n",
    "                pa2ta1n = np.linalg.norm(np.dot(a2,a1)/np.dot(a1,a1))\n",
    "                pa2ta3n = np.linalg.norm(np.dot(a2,a3)/np.dot(a3,a3))\n",
    "                if (pa2ta1n-a1n/2.)<tiny and (pa2ta3n -a3n/2.)<tiny:\n",
    "                    print('bo')\n",
    "                    latType = 'bo'\n",
    "                else:\n",
    "                    print('fo')\n",
    "                    latType = 'fo'                \n",
    "            else:\n",
    "                pa1ta2n = np.linalg.norm(np.dot(a1,a2)/np.dot(a2,a2))\n",
    "                pa1ta3n = np.linalg.norm(np.dot(a1,a3)/np.dot(a3,a3))\n",
    "                if (pa1ta2n-a2n/2.)<tiny and (pa1ta3n -a3n/2.)<tiny:\n",
    "                    print('bo')\n",
    "                    latType = 'bo'\n",
    "                else:\n",
    "                    print('fo')\n",
    "                    latType = 'fo'\n",
    "        elif(abs(a1n-a2n)<tiny and abs(a2n-a3n)<tiny):\n",
    "            print('bo')\n",
    "            latType = 'bo'\n",
    "        elif (abs(a1n-a2n)>tiny and abs(a1n-a3n)>tiny and abs(a2n-a3n)>tiny):\n",
    "            print('fo')\n",
    "            latType = 'fo'\n",
    "        else:\n",
    "            print(\"Could not identify lattice (ortho)\")\n",
    "    elif fam == 4: #mono\n",
    "        if p_count==2:\n",
    "            print('sm')\n",
    "            latType = 'sm'\n",
    "        else:\n",
    "            print(\"cm\")\n",
    "            latType = 'cm'\n",
    "    elif fam == 2: #tric\n",
    "        print(\"tric\")\n",
    "        latType = 'tric'\n",
    "    else:\n",
    "        print(\"Could not indentify lattice.\")\n",
    "    \n",
    "    \n",
    "    "
   ]
  },
  {
   "cell_type": "code",
   "execution_count": 16,
   "metadata": {
    "collapsed": false,
    "deletable": true,
    "editable": true
   },
   "outputs": [
    {
     "name": "stdout",
     "output_type": "stream",
     "text": [
      "cm\n"
     ]
    }
   ],
   "source": [
    "#lat_type([[0,0.5,0.5],[0.5,0,0.5],[0.5,0.5,0]])\n",
    "#lat_type([[0.5,1,0],[0,1,2],[0,0,4]])\n",
    "#lat_type([[1,0,0],[0.5,0.866025403784439,0],[0,0,2]])\n",
    "lat_type([[0.5,1,0],[0.5,-1,0],[0.75,0,3]])"
   ]
  },
  {
   "cell_type": "code",
   "execution_count": 23,
   "metadata": {
    "collapsed": false
   },
   "outputs": [
    {
     "name": "stdout",
     "output_type": "stream",
     "text": [
      "[[0 1 0]\n",
      " [0 0 2]\n",
      " [1 0 0]]\n",
      "('p count: ', 3)\n",
      "stet\n"
     ]
    }
   ],
   "source": [
    "lat_type([[1, 1, 0], [0, 1,0], [1, 0,2]])"
   ]
  },
  {
   "cell_type": "code",
   "execution_count": null,
   "metadata": {
    "collapsed": true
   },
   "outputs": [],
   "source": []
  }
 ],
 "metadata": {
  "kernelspec": {
   "display_name": "Python 2",
   "language": "python",
   "name": "python2"
  },
  "language_info": {
   "codemirror_mode": {
    "name": "ipython",
    "version": 2
   },
   "file_extension": ".py",
   "mimetype": "text/x-python",
   "name": "python",
   "nbconvert_exporter": "python",
   "pygments_lexer": "ipython2",
   "version": "2.7.9"
  }
 },
 "nbformat": 4,
 "nbformat_minor": 2
}
