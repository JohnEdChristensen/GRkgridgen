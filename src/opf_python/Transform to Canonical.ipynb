{
 "cells": [
  {
   "cell_type": "markdown",
   "metadata": {
    "deletable": true,
    "editable": true
   },
   "source": [
    "I need to verify which transform works, is it:\n",
    "Ac = Au.M\n",
    "or:\n",
    "Ac = Au.M?"
   ]
  },
  {
   "cell_type": "code",
   "execution_count": 1,
   "metadata": {
    "collapsed": true,
    "deletable": true,
    "editable": true
   },
   "outputs": [],
   "source": [
    "import numpy as np\n",
    "from body_ortho import body_ortho_srHNFs"
   ]
  },
  {
   "cell_type": "code",
   "execution_count": 47,
   "metadata": {
    "collapsed": false,
    "deletable": true,
    "editable": true
   },
   "outputs": [
    {
     "name": "stdout",
     "output_type": "stream",
     "text": [
      "[[ 0.5  1.   0.5]\n",
      " [ 1.   0.   1. ]\n",
      " [ 1.5  0.  -1.5]]\n"
     ]
    }
   ],
   "source": [
    "a1 = np.array([-0.5,1,1.5])\n",
    "a2 = np.array([0.5,-1,1.5])\n",
    "a3 = np.array([0.5,1,-1.5])\n",
    "Ac = np.transpose(np.array([[0.5,1,1.5],[0,2,0],[0,0,3]]))\n",
    "Au = np.array([a1+a2+a3,a2+a3,a3])\n",
    "Au = np.transpose(Au)#*6.4\n",
    "print(Au)"
   ]
  },
  {
   "cell_type": "code",
   "execution_count": 48,
   "metadata": {
    "collapsed": false
   },
   "outputs": [],
   "source": [
    "vAu=np.linalg.det(Au)\n",
    "vAc=np.linalg.det(Ac)"
   ]
  },
  {
   "cell_type": "code",
   "execution_count": 110,
   "metadata": {
    "collapsed": false
   },
   "outputs": [
    {
     "name": "stdout",
     "output_type": "stream",
     "text": [
      "('Ac', array([[ 0.5,  0. ,  0. ],\n",
      "       [ 1. ,  2. ,  0. ],\n",
      "       [ 1.5,  0. ,  3. ]]))\n",
      "('N', array([[ 1.,  1.,  1.],\n",
      "       [ 0., -1.,  0.],\n",
      "       [ 0.,  1., -1.]]))\n"
     ]
    }
   ],
   "source": [
    "rat = (vAu/vAc)**(1/3.)\n",
    "#Ac = Ac*rat\n",
    "#print(\"rat\",rat,6.4)\n",
    "print(\"Ac\",Ac)\n",
    "print(\"N\",np.dot(np.linalg.inv(Au),Ac))"
   ]
  },
  {
   "cell_type": "code",
   "execution_count": 111,
   "metadata": {
    "collapsed": false,
    "deletable": true,
    "editable": true
   },
   "outputs": [],
   "source": [
    "srHNFs = body_ortho_srHNFs(9)"
   ]
  },
  {
   "cell_type": "code",
   "execution_count": 113,
   "metadata": {
    "collapsed": false,
    "deletable": true,
    "editable": true
   },
   "outputs": [
    {
     "name": "stdout",
     "output_type": "stream",
     "text": [
      "6\n",
      "('det H', 8.9999999999999982)\n",
      "('HNF', [[1, 0, 0], [0, 1, 0], [4, 0, 9]])\n"
     ]
    }
   ],
   "source": [
    "H = srHNFs[0]\n",
    "print(len(srHNFs))\n",
    "print(\"det H\",np.linalg.det(H))\n",
    "print(\"HNF\",H)"
   ]
  },
  {
   "cell_type": "code",
   "execution_count": 114,
   "metadata": {
    "collapsed": true,
    "deletable": true,
    "editable": true
   },
   "outputs": [],
   "source": [
    "gens = [[[-1,0,0],[0,-1,0],[0,0,-1]],\n",
    "        [[1,0,0],[0,-1,0],[0,0,-1]],\n",
    "        [[-1,0,0],[0,1,0],[0,0,-1]]]"
   ]
  },
  {
   "cell_type": "markdown",
   "metadata": {
    "deletable": true,
    "editable": true
   },
   "source": [
    "# Ac = Au.M"
   ]
  },
  {
   "cell_type": "code",
   "execution_count": 115,
   "metadata": {
    "collapsed": false,
    "deletable": true,
    "editable": true
   },
   "outputs": [
    {
     "name": "stdout",
     "output_type": "stream",
     "text": [
      "('M', array([[ 1.,  1.,  1.],\n",
      "       [ 0., -1.,  0.],\n",
      "       [ 0.,  1., -1.]]))\n",
      "('det M', 1.0)\n"
     ]
    }
   ],
   "source": [
    "M = np.dot(np.linalg.inv(Au),Ac)\n",
    "print(\"M\",M)\n",
    "print(\"det M\",np.linalg.det(M))"
   ]
  },
  {
   "cell_type": "code",
   "execution_count": 116,
   "metadata": {
    "collapsed": false,
    "deletable": true,
    "editable": true
   },
   "outputs": [
    {
     "name": "stdout",
     "output_type": "stream",
     "text": [
      "[[  0.5   0.    0. ]\n",
      " [  1.    2.    0. ]\n",
      " [ 13.5   0.   27. ]]\n"
     ]
    }
   ],
   "source": [
    "Bc = np.dot(Ac,H)\n",
    "print(Bc)"
   ]
  },
  {
   "cell_type": "code",
   "execution_count": 117,
   "metadata": {
    "collapsed": false,
    "deletable": true,
    "editable": true
   },
   "outputs": [
    {
     "name": "stdout",
     "output_type": "stream",
     "text": [
      "[[ 2.          0.          0.        ]\n",
      " [-1.          0.5         0.        ]\n",
      " [-1.         -0.          0.03703704]]\n"
     ]
    }
   ],
   "source": [
    "Bu = np.dot(Bc,M)\n",
    "gridu = np.linalg.solve(Bc,[[1,0,0],[0,1,0],[0,0,1]])#/rat\n",
    "print(gridu)"
   ]
  },
  {
   "cell_type": "code",
   "execution_count": 118,
   "metadata": {
    "collapsed": false,
    "deletable": true,
    "editable": true
   },
   "outputs": [
    {
     "name": "stdout",
     "output_type": "stream",
     "text": [
      "('Nb', array([[  0.25,   0.  ,   0.  ],\n",
      "       [  2.5 ,   4.  ,   0.  ],\n",
      "       [ 47.25,   0.  ,  81.  ]]))\n"
     ]
    }
   ],
   "source": [
    "print(\"Nb\",np.dot(np.linalg.inv(gridu),Ac))"
   ]
  },
  {
   "cell_type": "code",
   "execution_count": 124,
   "metadata": {
    "collapsed": false,
    "deletable": true,
    "editable": true
   },
   "outputs": [
    {
     "name": "stdout",
     "output_type": "stream",
     "text": [
      "[[  4.64158883e+00   0.00000000e+00  -2.29031058e-16]\n",
      " [  0.00000000e+00   4.64158883e+00   9.66224774e-17]\n",
      " [ -2.06292837e+00   0.00000000e+00   5.15732093e-01]]\n",
      "[[ -1.00000000e+00   0.00000000e+00   4.44089210e-16]\n",
      " [ -9.36750677e-17  -1.00000000e+00  -1.87350135e-16]\n",
      " [  0.00000000e+00   0.00000000e+00  -1.00000000e+00]]\n",
      "[[  1.00000000e+00   0.00000000e+00   4.44089210e-16]\n",
      " [ -1.00000000e+00  -1.00000000e+00  -1.87350135e-16]\n",
      " [ -1.00000000e+00   0.00000000e+00  -1.00000000e+00]]\n",
      "[[ -1.00000000e+00   0.00000000e+00   4.44089210e-16]\n",
      " [  1.00000000e+00   1.00000000e+00  -1.87350135e-16]\n",
      " [  0.00000000e+00   0.00000000e+00  -1.00000000e+00]]\n"
     ]
    }
   ],
   "source": [
    "grid = np.array(Bc)/(10.**(2/3.))#np.transpose(np.linalg.inv(np.dot(Ac,H)))\n",
    "print(np.dot(np.linalg.inv(grid),Ac))\n",
    "#for g in gens:\n",
    "#    Buinv = np.linalg.inv(Bu)\n",
    "#    test = np.dot(Buinv,np.dot(g,Bu))\n",
    "#    print(test)\n",
    "for g in gens:\n",
    "    gridinv = np.linalg.inv(grid)\n",
    "    test = np.dot(gridinv,np.dot(g,grid))\n",
    "    print(test)    "
   ]
  },
  {
   "cell_type": "markdown",
   "metadata": {
    "deletable": true,
    "editable": true
   },
   "source": [
    "# Ac = M. Au"
   ]
  },
  {
   "cell_type": "code",
   "execution_count": 14,
   "metadata": {
    "collapsed": true,
    "deletable": true,
    "editable": true
   },
   "outputs": [],
   "source": [
    "M = np.dot(Ac,np.linalg.inv(Au))"
   ]
  },
  {
   "cell_type": "code",
   "execution_count": 15,
   "metadata": {
    "collapsed": true,
    "deletable": true,
    "editable": true
   },
   "outputs": [],
   "source": [
    "Bu = np.dot(np.linalg.inv(M),Bc)"
   ]
  },
  {
   "cell_type": "code",
   "execution_count": 16,
   "metadata": {
    "collapsed": false,
    "deletable": true,
    "editable": true
   },
   "outputs": [
    {
     "data": {
      "text/plain": [
       "array([[ 3. ,  1. ,  2.5],\n",
       "       [ 6. ,  0. ,  5. ],\n",
       "       [-3. ,  0. , -7.5]])"
      ]
     },
     "execution_count": 16,
     "metadata": {},
     "output_type": "execute_result"
    }
   ],
   "source": [
    "Bu"
   ]
  },
  {
   "cell_type": "code",
   "execution_count": 17,
   "metadata": {
    "collapsed": false,
    "deletable": true,
    "editable": true
   },
   "outputs": [
    {
     "name": "stdout",
     "output_type": "stream",
     "text": [
      "[[-1.  0.  0.]\n",
      " [ 0. -1.  0.]\n",
      " [ 0.  0. -1.]]\n",
      "[[-1.  0.  0.]\n",
      " [ 6.  1.  5.]\n",
      " [ 0.  0. -1.]]\n",
      "[[ 2.   0.   2.5]\n",
      " [-6.  -1.  -5. ]\n",
      " [-1.2  0.  -2. ]]\n"
     ]
    }
   ],
   "source": [
    "for g in gens:\n",
    "    Buinv = np.linalg.inv(Bu)\n",
    "    test = np.dot(Buinv,np.dot(g,Bu))\n",
    "    print(test)"
   ]
  },
  {
   "cell_type": "markdown",
   "metadata": {
    "deletable": true,
    "editable": true
   },
   "source": [
    "# Conclusion\n",
    "\n",
    "Clearly the transformation needs to be applied on the right not the left."
   ]
  },
  {
   "cell_type": "code",
   "execution_count": 18,
   "metadata": {
    "collapsed": true,
    "deletable": true,
    "editable": true
   },
   "outputs": [],
   "source": [
    "A = np.array([[1,2,3],[4,5,6],[7,8,9]])"
   ]
  },
  {
   "cell_type": "code",
   "execution_count": 25,
   "metadata": {
    "collapsed": false,
    "deletable": true,
    "editable": true
   },
   "outputs": [],
   "source": [
    "ns = [np.linalg.norm([A[i,j] for i in range(3)]) for j in range(3)]"
   ]
  },
  {
   "cell_type": "code",
   "execution_count": 26,
   "metadata": {
    "collapsed": false,
    "deletable": true,
    "editable": true
   },
   "outputs": [
    {
     "data": {
      "text/plain": [
       "[8.1240384046359608, 9.6436507609929549, 11.224972160321824]"
      ]
     },
     "execution_count": 26,
     "metadata": {},
     "output_type": "execute_result"
    }
   ],
   "source": [
    "ns"
   ]
  },
  {
   "cell_type": "code",
   "execution_count": 23,
   "metadata": {
    "collapsed": false,
    "deletable": true,
    "editable": true
   },
   "outputs": [
    {
     "data": {
      "text/plain": [
       "[1, 2, 3]"
      ]
     },
     "execution_count": 23,
     "metadata": {},
     "output_type": "execute_result"
    }
   ],
   "source": [
    "[A[0,i] for i in range(3)]"
   ]
  },
  {
   "cell_type": "code",
   "execution_count": 29,
   "metadata": {
    "collapsed": false,
    "deletable": true,
    "editable": true
   },
   "outputs": [
    {
     "data": {
      "text/plain": [
       "array([  8.1240384 ,   9.64365076,  11.22497216])"
      ]
     },
     "execution_count": 29,
     "metadata": {},
     "output_type": "execute_result"
    }
   ],
   "source": [
    "np.linalg.norm(A,axis=0)"
   ]
  },
  {
   "cell_type": "code",
   "execution_count": null,
   "metadata": {
    "collapsed": true,
    "deletable": true,
    "editable": true
   },
   "outputs": [],
   "source": []
  }
 ],
 "metadata": {
  "kernelspec": {
   "display_name": "Python 2",
   "language": "python",
   "name": "python2"
  },
  "language_info": {
   "codemirror_mode": {
    "name": "ipython",
    "version": 2
   },
   "file_extension": ".py",
   "mimetype": "text/x-python",
   "name": "python",
   "nbconvert_exporter": "python",
   "pygments_lexer": "ipython2",
   "version": "2.7.9"
  }
 },
 "nbformat": 4,
 "nbformat_minor": 2
}
