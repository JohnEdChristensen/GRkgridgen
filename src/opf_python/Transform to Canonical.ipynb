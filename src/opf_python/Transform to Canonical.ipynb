{
 "cells": [
  {
   "cell_type": "markdown",
   "metadata": {},
   "source": [
    "I need to verify which transform works, is it:\n",
    "Ac = Au.M\n",
    "or:\n",
    "Ac = Au.M?"
   ]
  },
  {
   "cell_type": "code",
   "execution_count": 1,
   "metadata": {
    "collapsed": true
   },
   "outputs": [],
   "source": [
    "import numpy as np\n",
    "from body_ortho import body_ortho_srHNFs"
   ]
  },
  {
   "cell_type": "code",
   "execution_count": 2,
   "metadata": {
    "collapsed": false
   },
   "outputs": [
    {
     "name": "stdout",
     "output_type": "stream",
     "text": [
      "[[ 0.5  1.   1.5]\n",
      " [ 1.   0.   0. ]\n",
      " [ 0.5  1.  -1.5]]\n"
     ]
    }
   ],
   "source": [
    "a1 = np.array([-0.5,1,1.5])\n",
    "a2 = np.array([0.5,-1,1.5])\n",
    "a3 = np.array([0.5,1,-1.5])\n",
    "Ac = np.transpose(np.array([[0.5,1,1.5],[0,2,0],[0,0,3]]))\n",
    "Au = np.array([a1+a2+a3,a2+a3,a3])\n",
    "print(Au)\n",
    "Au = np.transpose(Au)"
   ]
  },
  {
   "cell_type": "code",
   "execution_count": 4,
   "metadata": {
    "collapsed": false
   },
   "outputs": [],
   "source": [
    "srHNFs = body_ortho_srHNFs(10)"
   ]
  },
  {
   "cell_type": "code",
   "execution_count": 6,
   "metadata": {
    "collapsed": false
   },
   "outputs": [],
   "source": [
    "H = srHNFs[0]"
   ]
  },
  {
   "cell_type": "code",
   "execution_count": 12,
   "metadata": {
    "collapsed": true
   },
   "outputs": [],
   "source": [
    "gens = [[[-1,0,0],[0,-1,0],[0,0,-1]],\n",
    "        [[1,0,0],[0,-1,0],[0,0,-1]],\n",
    "        [[-1,0,0],[0,1,0],[0,0,-1]]]"
   ]
  },
  {
   "cell_type": "markdown",
   "metadata": {},
   "source": [
    "# Ac = Au.M"
   ]
  },
  {
   "cell_type": "code",
   "execution_count": 3,
   "metadata": {
    "collapsed": true
   },
   "outputs": [],
   "source": [
    "M = np.dot(np.linalg.inv(Au),Ac)"
   ]
  },
  {
   "cell_type": "code",
   "execution_count": 8,
   "metadata": {
    "collapsed": true
   },
   "outputs": [],
   "source": [
    "Bc = np.dot(Ac,H)"
   ]
  },
  {
   "cell_type": "code",
   "execution_count": 9,
   "metadata": {
    "collapsed": true
   },
   "outputs": [],
   "source": [
    "Bu = np.dot(Bc,np.linalg.inv(M))"
   ]
  },
  {
   "cell_type": "code",
   "execution_count": 10,
   "metadata": {
    "collapsed": false
   },
   "outputs": [
    {
     "data": {
      "text/plain": [
       "array([[  1.,   2.,   1.],\n",
       "       [  2.,   2.,   2.],\n",
       "       [ 15.,  15.,   0.]])"
      ]
     },
     "execution_count": 10,
     "metadata": {},
     "output_type": "execute_result"
    }
   ],
   "source": [
    "Bu"
   ]
  },
  {
   "cell_type": "code",
   "execution_count": 13,
   "metadata": {
    "collapsed": false
   },
   "outputs": [
    {
     "name": "stdout",
     "output_type": "stream",
     "text": [
      "[[-1.  0.  0.]\n",
      " [ 0. -1.  0.]\n",
      " [ 0.  0. -1.]]\n",
      "[[-3. -4. -2.]\n",
      " [ 2.  3.  2.]\n",
      " [ 0.  0. -1.]]\n",
      "[[ 1.  2.  2.]\n",
      " [-2. -3. -2.]\n",
      " [ 2.  2.  1.]]\n"
     ]
    }
   ],
   "source": [
    "for g in gens:\n",
    "    Buinv = np.linalg.inv(Bu)\n",
    "    test = np.dot(Buinv,np.dot(g,Bu))\n",
    "    print(test)"
   ]
  },
  {
   "cell_type": "markdown",
   "metadata": {},
   "source": [
    "# Ac = M. Au"
   ]
  },
  {
   "cell_type": "code",
   "execution_count": 14,
   "metadata": {
    "collapsed": true
   },
   "outputs": [],
   "source": [
    "M = np.dot(Ac,np.linalg.inv(Au))"
   ]
  },
  {
   "cell_type": "code",
   "execution_count": 15,
   "metadata": {
    "collapsed": true
   },
   "outputs": [],
   "source": [
    "Bu = np.dot(np.linalg.inv(M),Bc)"
   ]
  },
  {
   "cell_type": "code",
   "execution_count": 16,
   "metadata": {
    "collapsed": false
   },
   "outputs": [
    {
     "data": {
      "text/plain": [
       "array([[ 3. ,  1. ,  2.5],\n",
       "       [ 6. ,  0. ,  5. ],\n",
       "       [-3. ,  0. , -7.5]])"
      ]
     },
     "execution_count": 16,
     "metadata": {},
     "output_type": "execute_result"
    }
   ],
   "source": [
    "Bu"
   ]
  },
  {
   "cell_type": "code",
   "execution_count": 17,
   "metadata": {
    "collapsed": false
   },
   "outputs": [
    {
     "name": "stdout",
     "output_type": "stream",
     "text": [
      "[[-1.  0.  0.]\n",
      " [ 0. -1.  0.]\n",
      " [ 0.  0. -1.]]\n",
      "[[-1.  0.  0.]\n",
      " [ 6.  1.  5.]\n",
      " [ 0.  0. -1.]]\n",
      "[[ 2.   0.   2.5]\n",
      " [-6.  -1.  -5. ]\n",
      " [-1.2  0.  -2. ]]\n"
     ]
    }
   ],
   "source": [
    "for g in gens:\n",
    "    Buinv = np.linalg.inv(Bu)\n",
    "    test = np.dot(Buinv,np.dot(g,Bu))\n",
    "    print(test)"
   ]
  },
  {
   "cell_type": "markdown",
   "metadata": {},
   "source": [
    "# Conclusion\n",
    "\n",
    "Clearly the transformation needs to be applied on the right not the left."
   ]
  },
  {
   "cell_type": "code",
   "execution_count": 18,
   "metadata": {
    "collapsed": true
   },
   "outputs": [],
   "source": [
    "A = np.array([[1,2,3],[4,5,6],[7,8,9]])"
   ]
  },
  {
   "cell_type": "code",
   "execution_count": 25,
   "metadata": {
    "collapsed": false
   },
   "outputs": [],
   "source": [
    "ns = [np.linalg.norm([A[i,j] for i in range(3)]) for j in range(3)]"
   ]
  },
  {
   "cell_type": "code",
   "execution_count": 26,
   "metadata": {
    "collapsed": false
   },
   "outputs": [
    {
     "data": {
      "text/plain": [
       "[8.1240384046359608, 9.6436507609929549, 11.224972160321824]"
      ]
     },
     "execution_count": 26,
     "metadata": {},
     "output_type": "execute_result"
    }
   ],
   "source": [
    "ns"
   ]
  },
  {
   "cell_type": "code",
   "execution_count": 23,
   "metadata": {
    "collapsed": false
   },
   "outputs": [
    {
     "data": {
      "text/plain": [
       "[1, 2, 3]"
      ]
     },
     "execution_count": 23,
     "metadata": {},
     "output_type": "execute_result"
    }
   ],
   "source": [
    "[A[0,i] for i in range(3)]"
   ]
  },
  {
   "cell_type": "code",
   "execution_count": 29,
   "metadata": {
    "collapsed": false
   },
   "outputs": [
    {
     "data": {
      "text/plain": [
       "array([  8.1240384 ,   9.64365076,  11.22497216])"
      ]
     },
     "execution_count": 29,
     "metadata": {},
     "output_type": "execute_result"
    }
   ],
   "source": [
    "np.linalg.norm(A,axis=0)"
   ]
  },
  {
   "cell_type": "code",
   "execution_count": null,
   "metadata": {
    "collapsed": true
   },
   "outputs": [],
   "source": []
  }
 ],
 "metadata": {
  "kernelspec": {
   "display_name": "Python 2",
   "language": "python",
   "name": "python2"
  },
  "language_info": {
   "codemirror_mode": {
    "name": "ipython",
    "version": 2
   },
   "file_extension": ".py",
   "mimetype": "text/x-python",
   "name": "python",
   "nbconvert_exporter": "python",
   "pygments_lexer": "ipython2",
   "version": "2.7.9"
  }
 },
 "nbformat": 4,
 "nbformat_minor": 2
}
